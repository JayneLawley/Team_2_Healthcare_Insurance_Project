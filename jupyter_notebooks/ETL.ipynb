{
  "cells": [
    {
      "cell_type": "markdown",
      "metadata": {
        "id": "0aStgWSO0E0E"
      },
      "source": [
        "# **(ADD THE NOTEBOOK NAME HERE)**"
      ]
    },
    {
      "cell_type": "markdown",
      "metadata": {
        "id": "1eLEkw5O0ECa"
      },
      "source": [
        "## Objectives\n",
        "\n",
        "* Write your notebook objective here, for example, \"Fetch data from Kaggle and save as raw data\", or \"engineer features for modelling\"\n",
        "\n",
        "## Inputs\n",
        "\n",
        "* Write down which data or information you need to run the notebook \n",
        "\n",
        "## Outputs\n",
        "\n",
        "* Write here which files, code or artefacts you generate by the end of the notebook \n",
        "\n",
        "## Additional Comments\n",
        "\n",
        "* If you have any additional comments that don't fit in the previous bullets, please state them here. \n",
        "\n"
      ]
    },
    {
      "cell_type": "markdown",
      "metadata": {
        "id": "9uWZXH9LwoQg"
      },
      "source": [
        "---"
      ]
    },
    {
      "cell_type": "markdown",
      "metadata": {
        "id": "cqP-UeN-z3i2"
      },
      "source": [
        "# Change working directory"
      ]
    },
    {
      "cell_type": "markdown",
      "metadata": {},
      "source": [
        "* We are assuming you will store the notebooks in a subfolder, therefore when running the notebook in the editor, you will need to change the working directory"
      ]
    },
    {
      "cell_type": "markdown",
      "metadata": {
        "id": "aOGIGS-uz3i2"
      },
      "source": [
        "We need to change the working directory from its current folder to its parent folder\n",
        "* We access the current directory with os.getcwd()"
      ]
    },
    {
      "cell_type": "code",
      "execution_count": 39,
      "metadata": {
        "id": "wZfF_j-Bz3i4",
        "outputId": "66943449-1436-4c3d-85c7-b85f9f78349b"
      },
      "outputs": [
        {
          "data": {
            "text/plain": [
              "'c:\\\\DA Dev\\\\Team_2_Healthcare_Insurance_Project'"
            ]
          },
          "execution_count": 39,
          "metadata": {},
          "output_type": "execute_result"
        }
      ],
      "source": [
        "import os\n",
        "current_dir = os.getcwd()\n",
        "current_dir"
      ]
    },
    {
      "cell_type": "markdown",
      "metadata": {
        "id": "9MWW8E7lz3i7"
      },
      "source": [
        "We want to make the parent of the current directory the new current directory\n",
        "* os.path.dirname() gets the parent directory\n",
        "* os.chir() defines the new current directory"
      ]
    },
    {
      "cell_type": "code",
      "execution_count": 40,
      "metadata": {
        "id": "TwHsQRWjz3i9",
        "outputId": "86849db3-cd2f-4cc5-ebb8-2d0caafa1a2c"
      },
      "outputs": [
        {
          "name": "stdout",
          "output_type": "stream",
          "text": [
            "You set a new current directory\n"
          ]
        }
      ],
      "source": [
        "os.chdir(os.path.dirname(current_dir))\n",
        "print(\"You set a new current directory\")"
      ]
    },
    {
      "cell_type": "markdown",
      "metadata": {
        "id": "M_xPk_Ijz3i-"
      },
      "source": [
        "Confirm the new current directory"
      ]
    },
    {
      "cell_type": "code",
      "execution_count": 41,
      "metadata": {
        "id": "vz3S-_kjz3jA",
        "outputId": "00b79ae4-75d0-4a96-d193-ac9ef9847ea2"
      },
      "outputs": [
        {
          "data": {
            "text/plain": [
              "'c:\\\\DA Dev'"
            ]
          },
          "execution_count": 41,
          "metadata": {},
          "output_type": "execute_result"
        }
      ],
      "source": [
        "current_dir = os.getcwd()\n",
        "current_dir"
      ]
    },
    {
      "cell_type": "code",
      "execution_count": 42,
      "metadata": {},
      "outputs": [
        {
          "ename": "FileNotFoundError",
          "evalue": "[Errno 2] No such file or directory: 'data/raw/insurance.csv'",
          "output_type": "error",
          "traceback": [
            "\u001b[31m---------------------------------------------------------------------------\u001b[39m",
            "\u001b[31mFileNotFoundError\u001b[39m                         Traceback (most recent call last)",
            "\u001b[36mCell\u001b[39m\u001b[36m \u001b[39m\u001b[32mIn[42]\u001b[39m\u001b[32m, line 4\u001b[39m\n\u001b[32m      1\u001b[39m \u001b[38;5;28;01mfrom\u001b[39;00m\u001b[38;5;250m \u001b[39m\u001b[34;01mpathlib\u001b[39;00m\u001b[38;5;250m \u001b[39m\u001b[38;5;28;01mimport\u001b[39;00m Path \u001b[38;5;66;03m# load the pathlib library\u001b[39;00m\n\u001b[32m      3\u001b[39m \u001b[38;5;28;01mimport\u001b[39;00m\u001b[38;5;250m \u001b[39m\u001b[34;01mpandas\u001b[39;00m\u001b[38;5;250m \u001b[39m\u001b[38;5;28;01mas\u001b[39;00m\u001b[38;5;250m \u001b[39m\u001b[34;01mpd\u001b[39;00m \u001b[38;5;66;03m# load the pandas library\u001b[39;00m\n\u001b[32m----> \u001b[39m\u001b[32m4\u001b[39m df = \u001b[43mpd\u001b[49m\u001b[43m.\u001b[49m\u001b[43mread_csv\u001b[49m\u001b[43m(\u001b[49m\u001b[33;43m'\u001b[39;49m\u001b[33;43mdata/raw/insurance.csv\u001b[39;49m\u001b[33;43m'\u001b[39;49m\u001b[43m)\u001b[49m \u001b[38;5;66;03m# read the csv file into a dataframe\u001b[39;00m\n\u001b[32m      5\u001b[39m df.head() \u001b[38;5;66;03m# displays the first first few rows of dataframe\u001b[39;00m\n\u001b[32m      6\u001b[39m \u001b[38;5;28mprint\u001b[39m(df.shape)  \u001b[38;5;66;03m# look at shape of dataframe\u001b[39;00m\n",
            "\u001b[36mFile \u001b[39m\u001b[32mc:\\DA Dev\\Team_2_Healthcare_Insurance_Project\\.venv\\Lib\\site-packages\\pandas\\io\\parsers\\readers.py:948\u001b[39m, in \u001b[36mread_csv\u001b[39m\u001b[34m(filepath_or_buffer, sep, delimiter, header, names, index_col, usecols, dtype, engine, converters, true_values, false_values, skipinitialspace, skiprows, skipfooter, nrows, na_values, keep_default_na, na_filter, verbose, skip_blank_lines, parse_dates, infer_datetime_format, keep_date_col, date_parser, date_format, dayfirst, cache_dates, iterator, chunksize, compression, thousands, decimal, lineterminator, quotechar, quoting, doublequote, escapechar, comment, encoding, encoding_errors, dialect, on_bad_lines, delim_whitespace, low_memory, memory_map, float_precision, storage_options, dtype_backend)\u001b[39m\n\u001b[32m    935\u001b[39m kwds_defaults = _refine_defaults_read(\n\u001b[32m    936\u001b[39m     dialect,\n\u001b[32m    937\u001b[39m     delimiter,\n\u001b[32m   (...)\u001b[39m\u001b[32m    944\u001b[39m     dtype_backend=dtype_backend,\n\u001b[32m    945\u001b[39m )\n\u001b[32m    946\u001b[39m kwds.update(kwds_defaults)\n\u001b[32m--> \u001b[39m\u001b[32m948\u001b[39m \u001b[38;5;28;01mreturn\u001b[39;00m \u001b[43m_read\u001b[49m\u001b[43m(\u001b[49m\u001b[43mfilepath_or_buffer\u001b[49m\u001b[43m,\u001b[49m\u001b[43m \u001b[49m\u001b[43mkwds\u001b[49m\u001b[43m)\u001b[49m\n",
            "\u001b[36mFile \u001b[39m\u001b[32mc:\\DA Dev\\Team_2_Healthcare_Insurance_Project\\.venv\\Lib\\site-packages\\pandas\\io\\parsers\\readers.py:611\u001b[39m, in \u001b[36m_read\u001b[39m\u001b[34m(filepath_or_buffer, kwds)\u001b[39m\n\u001b[32m    608\u001b[39m _validate_names(kwds.get(\u001b[33m\"\u001b[39m\u001b[33mnames\u001b[39m\u001b[33m\"\u001b[39m, \u001b[38;5;28;01mNone\u001b[39;00m))\n\u001b[32m    610\u001b[39m \u001b[38;5;66;03m# Create the parser.\u001b[39;00m\n\u001b[32m--> \u001b[39m\u001b[32m611\u001b[39m parser = \u001b[43mTextFileReader\u001b[49m\u001b[43m(\u001b[49m\u001b[43mfilepath_or_buffer\u001b[49m\u001b[43m,\u001b[49m\u001b[43m \u001b[49m\u001b[43m*\u001b[49m\u001b[43m*\u001b[49m\u001b[43mkwds\u001b[49m\u001b[43m)\u001b[49m\n\u001b[32m    613\u001b[39m \u001b[38;5;28;01mif\u001b[39;00m chunksize \u001b[38;5;129;01mor\u001b[39;00m iterator:\n\u001b[32m    614\u001b[39m     \u001b[38;5;28;01mreturn\u001b[39;00m parser\n",
            "\u001b[36mFile \u001b[39m\u001b[32mc:\\DA Dev\\Team_2_Healthcare_Insurance_Project\\.venv\\Lib\\site-packages\\pandas\\io\\parsers\\readers.py:1448\u001b[39m, in \u001b[36mTextFileReader.__init__\u001b[39m\u001b[34m(self, f, engine, **kwds)\u001b[39m\n\u001b[32m   1445\u001b[39m     \u001b[38;5;28mself\u001b[39m.options[\u001b[33m\"\u001b[39m\u001b[33mhas_index_names\u001b[39m\u001b[33m\"\u001b[39m] = kwds[\u001b[33m\"\u001b[39m\u001b[33mhas_index_names\u001b[39m\u001b[33m\"\u001b[39m]\n\u001b[32m   1447\u001b[39m \u001b[38;5;28mself\u001b[39m.handles: IOHandles | \u001b[38;5;28;01mNone\u001b[39;00m = \u001b[38;5;28;01mNone\u001b[39;00m\n\u001b[32m-> \u001b[39m\u001b[32m1448\u001b[39m \u001b[38;5;28mself\u001b[39m._engine = \u001b[38;5;28;43mself\u001b[39;49m\u001b[43m.\u001b[49m\u001b[43m_make_engine\u001b[49m\u001b[43m(\u001b[49m\u001b[43mf\u001b[49m\u001b[43m,\u001b[49m\u001b[43m \u001b[49m\u001b[38;5;28;43mself\u001b[39;49m\u001b[43m.\u001b[49m\u001b[43mengine\u001b[49m\u001b[43m)\u001b[49m\n",
            "\u001b[36mFile \u001b[39m\u001b[32mc:\\DA Dev\\Team_2_Healthcare_Insurance_Project\\.venv\\Lib\\site-packages\\pandas\\io\\parsers\\readers.py:1705\u001b[39m, in \u001b[36mTextFileReader._make_engine\u001b[39m\u001b[34m(self, f, engine)\u001b[39m\n\u001b[32m   1703\u001b[39m     \u001b[38;5;28;01mif\u001b[39;00m \u001b[33m\"\u001b[39m\u001b[33mb\u001b[39m\u001b[33m\"\u001b[39m \u001b[38;5;129;01mnot\u001b[39;00m \u001b[38;5;129;01min\u001b[39;00m mode:\n\u001b[32m   1704\u001b[39m         mode += \u001b[33m\"\u001b[39m\u001b[33mb\u001b[39m\u001b[33m\"\u001b[39m\n\u001b[32m-> \u001b[39m\u001b[32m1705\u001b[39m \u001b[38;5;28mself\u001b[39m.handles = \u001b[43mget_handle\u001b[49m\u001b[43m(\u001b[49m\n\u001b[32m   1706\u001b[39m \u001b[43m    \u001b[49m\u001b[43mf\u001b[49m\u001b[43m,\u001b[49m\n\u001b[32m   1707\u001b[39m \u001b[43m    \u001b[49m\u001b[43mmode\u001b[49m\u001b[43m,\u001b[49m\n\u001b[32m   1708\u001b[39m \u001b[43m    \u001b[49m\u001b[43mencoding\u001b[49m\u001b[43m=\u001b[49m\u001b[38;5;28;43mself\u001b[39;49m\u001b[43m.\u001b[49m\u001b[43moptions\u001b[49m\u001b[43m.\u001b[49m\u001b[43mget\u001b[49m\u001b[43m(\u001b[49m\u001b[33;43m\"\u001b[39;49m\u001b[33;43mencoding\u001b[39;49m\u001b[33;43m\"\u001b[39;49m\u001b[43m,\u001b[49m\u001b[43m \u001b[49m\u001b[38;5;28;43;01mNone\u001b[39;49;00m\u001b[43m)\u001b[49m\u001b[43m,\u001b[49m\n\u001b[32m   1709\u001b[39m \u001b[43m    \u001b[49m\u001b[43mcompression\u001b[49m\u001b[43m=\u001b[49m\u001b[38;5;28;43mself\u001b[39;49m\u001b[43m.\u001b[49m\u001b[43moptions\u001b[49m\u001b[43m.\u001b[49m\u001b[43mget\u001b[49m\u001b[43m(\u001b[49m\u001b[33;43m\"\u001b[39;49m\u001b[33;43mcompression\u001b[39;49m\u001b[33;43m\"\u001b[39;49m\u001b[43m,\u001b[49m\u001b[43m \u001b[49m\u001b[38;5;28;43;01mNone\u001b[39;49;00m\u001b[43m)\u001b[49m\u001b[43m,\u001b[49m\n\u001b[32m   1710\u001b[39m \u001b[43m    \u001b[49m\u001b[43mmemory_map\u001b[49m\u001b[43m=\u001b[49m\u001b[38;5;28;43mself\u001b[39;49m\u001b[43m.\u001b[49m\u001b[43moptions\u001b[49m\u001b[43m.\u001b[49m\u001b[43mget\u001b[49m\u001b[43m(\u001b[49m\u001b[33;43m\"\u001b[39;49m\u001b[33;43mmemory_map\u001b[39;49m\u001b[33;43m\"\u001b[39;49m\u001b[43m,\u001b[49m\u001b[43m \u001b[49m\u001b[38;5;28;43;01mFalse\u001b[39;49;00m\u001b[43m)\u001b[49m\u001b[43m,\u001b[49m\n\u001b[32m   1711\u001b[39m \u001b[43m    \u001b[49m\u001b[43mis_text\u001b[49m\u001b[43m=\u001b[49m\u001b[43mis_text\u001b[49m\u001b[43m,\u001b[49m\n\u001b[32m   1712\u001b[39m \u001b[43m    \u001b[49m\u001b[43merrors\u001b[49m\u001b[43m=\u001b[49m\u001b[38;5;28;43mself\u001b[39;49m\u001b[43m.\u001b[49m\u001b[43moptions\u001b[49m\u001b[43m.\u001b[49m\u001b[43mget\u001b[49m\u001b[43m(\u001b[49m\u001b[33;43m\"\u001b[39;49m\u001b[33;43mencoding_errors\u001b[39;49m\u001b[33;43m\"\u001b[39;49m\u001b[43m,\u001b[49m\u001b[43m \u001b[49m\u001b[33;43m\"\u001b[39;49m\u001b[33;43mstrict\u001b[39;49m\u001b[33;43m\"\u001b[39;49m\u001b[43m)\u001b[49m\u001b[43m,\u001b[49m\n\u001b[32m   1713\u001b[39m \u001b[43m    \u001b[49m\u001b[43mstorage_options\u001b[49m\u001b[43m=\u001b[49m\u001b[38;5;28;43mself\u001b[39;49m\u001b[43m.\u001b[49m\u001b[43moptions\u001b[49m\u001b[43m.\u001b[49m\u001b[43mget\u001b[49m\u001b[43m(\u001b[49m\u001b[33;43m\"\u001b[39;49m\u001b[33;43mstorage_options\u001b[39;49m\u001b[33;43m\"\u001b[39;49m\u001b[43m,\u001b[49m\u001b[43m \u001b[49m\u001b[38;5;28;43;01mNone\u001b[39;49;00m\u001b[43m)\u001b[49m\u001b[43m,\u001b[49m\n\u001b[32m   1714\u001b[39m \u001b[43m\u001b[49m\u001b[43m)\u001b[49m\n\u001b[32m   1715\u001b[39m \u001b[38;5;28;01massert\u001b[39;00m \u001b[38;5;28mself\u001b[39m.handles \u001b[38;5;129;01mis\u001b[39;00m \u001b[38;5;129;01mnot\u001b[39;00m \u001b[38;5;28;01mNone\u001b[39;00m\n\u001b[32m   1716\u001b[39m f = \u001b[38;5;28mself\u001b[39m.handles.handle\n",
            "\u001b[36mFile \u001b[39m\u001b[32mc:\\DA Dev\\Team_2_Healthcare_Insurance_Project\\.venv\\Lib\\site-packages\\pandas\\io\\common.py:863\u001b[39m, in \u001b[36mget_handle\u001b[39m\u001b[34m(path_or_buf, mode, encoding, compression, memory_map, is_text, errors, storage_options)\u001b[39m\n\u001b[32m    858\u001b[39m \u001b[38;5;28;01melif\u001b[39;00m \u001b[38;5;28misinstance\u001b[39m(handle, \u001b[38;5;28mstr\u001b[39m):\n\u001b[32m    859\u001b[39m     \u001b[38;5;66;03m# Check whether the filename is to be opened in binary mode.\u001b[39;00m\n\u001b[32m    860\u001b[39m     \u001b[38;5;66;03m# Binary mode does not support 'encoding' and 'newline'.\u001b[39;00m\n\u001b[32m    861\u001b[39m     \u001b[38;5;28;01mif\u001b[39;00m ioargs.encoding \u001b[38;5;129;01mand\u001b[39;00m \u001b[33m\"\u001b[39m\u001b[33mb\u001b[39m\u001b[33m\"\u001b[39m \u001b[38;5;129;01mnot\u001b[39;00m \u001b[38;5;129;01min\u001b[39;00m ioargs.mode:\n\u001b[32m    862\u001b[39m         \u001b[38;5;66;03m# Encoding\u001b[39;00m\n\u001b[32m--> \u001b[39m\u001b[32m863\u001b[39m         handle = \u001b[38;5;28;43mopen\u001b[39;49m\u001b[43m(\u001b[49m\n\u001b[32m    864\u001b[39m \u001b[43m            \u001b[49m\u001b[43mhandle\u001b[49m\u001b[43m,\u001b[49m\n\u001b[32m    865\u001b[39m \u001b[43m            \u001b[49m\u001b[43mioargs\u001b[49m\u001b[43m.\u001b[49m\u001b[43mmode\u001b[49m\u001b[43m,\u001b[49m\n\u001b[32m    866\u001b[39m \u001b[43m            \u001b[49m\u001b[43mencoding\u001b[49m\u001b[43m=\u001b[49m\u001b[43mioargs\u001b[49m\u001b[43m.\u001b[49m\u001b[43mencoding\u001b[49m\u001b[43m,\u001b[49m\n\u001b[32m    867\u001b[39m \u001b[43m            \u001b[49m\u001b[43merrors\u001b[49m\u001b[43m=\u001b[49m\u001b[43merrors\u001b[49m\u001b[43m,\u001b[49m\n\u001b[32m    868\u001b[39m \u001b[43m            \u001b[49m\u001b[43mnewline\u001b[49m\u001b[43m=\u001b[49m\u001b[33;43m\"\u001b[39;49m\u001b[33;43m\"\u001b[39;49m\u001b[43m,\u001b[49m\n\u001b[32m    869\u001b[39m \u001b[43m        \u001b[49m\u001b[43m)\u001b[49m\n\u001b[32m    870\u001b[39m     \u001b[38;5;28;01melse\u001b[39;00m:\n\u001b[32m    871\u001b[39m         \u001b[38;5;66;03m# Binary mode\u001b[39;00m\n\u001b[32m    872\u001b[39m         handle = \u001b[38;5;28mopen\u001b[39m(handle, ioargs.mode)\n",
            "\u001b[31mFileNotFoundError\u001b[39m: [Errno 2] No such file or directory: 'data/raw/insurance.csv'"
          ]
        }
      ],
      "source": [
        "from pathlib import Path # load the pathlib library\n",
        "\n",
        "import pandas as pd # load the pandas library\n",
        "df = pd.read_csv('data/raw/insurance.csv') # read the csv file into a dataframe\n",
        "df.head() # displays the first first few rows of dataframe\n",
        "print(df.shape)  # look at shape of dataframe\n"
      ]
    },
    {
      "cell_type": "markdown",
      "metadata": {
        "id": "-mavJ8DibrcQ"
      },
      "source": [
        "# Section 1"
      ]
    },
    {
      "cell_type": "markdown",
      "metadata": {},
      "source": [
        "Section 1 content"
      ]
    },
    {
      "cell_type": "markdown",
      "metadata": {},
      "source": [
        "Import Libraries"
      ]
    },
    {
      "cell_type": "code",
      "execution_count": null,
      "metadata": {},
      "outputs": [
        {
          "data": {
            "text/plain": [
              "age           int64\n",
              "sex          object\n",
              "bmi         float64\n",
              "children      int64\n",
              "smoker       object\n",
              "region       object\n",
              "charges     float64\n",
              "dtype: object"
            ]
          },
          "execution_count": 5,
          "metadata": {},
          "output_type": "execute_result"
        }
      ],
      "source": [
        "import numpy as np # load the numpy library\n",
        "df.dtypes # check the data types of each column"
      ]
    },
    {
      "cell_type": "markdown",
      "metadata": {
        "id": "ZY3l0-AxO93d"
      },
      "source": [
        "---"
      ]
    },
    {
      "cell_type": "markdown",
      "metadata": {},
      "source": [
        "Listing all the variable "
      ]
    },
    {
      "cell_type": "code",
      "execution_count": null,
      "metadata": {},
      "outputs": [
        {
          "data": {
            "text/html": [
              "<div>\n",
              "<style scoped>\n",
              "    .dataframe tbody tr th:only-of-type {\n",
              "        vertical-align: middle;\n",
              "    }\n",
              "\n",
              "    .dataframe tbody tr th {\n",
              "        vertical-align: top;\n",
              "    }\n",
              "\n",
              "    .dataframe thead th {\n",
              "        text-align: right;\n",
              "    }\n",
              "</style>\n",
              "<table border=\"1\" class=\"dataframe\">\n",
              "  <thead>\n",
              "    <tr style=\"text-align: right;\">\n",
              "      <th></th>\n",
              "      <th>age</th>\n",
              "      <th>sex</th>\n",
              "      <th>bmi</th>\n",
              "      <th>children</th>\n",
              "      <th>smoker</th>\n",
              "      <th>region</th>\n",
              "      <th>charges</th>\n",
              "    </tr>\n",
              "  </thead>\n",
              "  <tbody>\n",
              "    <tr>\n",
              "      <th>count</th>\n",
              "      <td>1338.000000</td>\n",
              "      <td>1338</td>\n",
              "      <td>1338.000000</td>\n",
              "      <td>1338.000000</td>\n",
              "      <td>1338</td>\n",
              "      <td>1338</td>\n",
              "      <td>1338.000000</td>\n",
              "    </tr>\n",
              "    <tr>\n",
              "      <th>unique</th>\n",
              "      <td>NaN</td>\n",
              "      <td>2</td>\n",
              "      <td>NaN</td>\n",
              "      <td>NaN</td>\n",
              "      <td>2</td>\n",
              "      <td>4</td>\n",
              "      <td>NaN</td>\n",
              "    </tr>\n",
              "    <tr>\n",
              "      <th>top</th>\n",
              "      <td>NaN</td>\n",
              "      <td>male</td>\n",
              "      <td>NaN</td>\n",
              "      <td>NaN</td>\n",
              "      <td>no</td>\n",
              "      <td>southeast</td>\n",
              "      <td>NaN</td>\n",
              "    </tr>\n",
              "    <tr>\n",
              "      <th>freq</th>\n",
              "      <td>NaN</td>\n",
              "      <td>676</td>\n",
              "      <td>NaN</td>\n",
              "      <td>NaN</td>\n",
              "      <td>1064</td>\n",
              "      <td>364</td>\n",
              "      <td>NaN</td>\n",
              "    </tr>\n",
              "    <tr>\n",
              "      <th>mean</th>\n",
              "      <td>39.207025</td>\n",
              "      <td>NaN</td>\n",
              "      <td>30.663397</td>\n",
              "      <td>1.094918</td>\n",
              "      <td>NaN</td>\n",
              "      <td>NaN</td>\n",
              "      <td>13270.422265</td>\n",
              "    </tr>\n",
              "    <tr>\n",
              "      <th>std</th>\n",
              "      <td>14.049960</td>\n",
              "      <td>NaN</td>\n",
              "      <td>6.098187</td>\n",
              "      <td>1.205493</td>\n",
              "      <td>NaN</td>\n",
              "      <td>NaN</td>\n",
              "      <td>12110.011237</td>\n",
              "    </tr>\n",
              "    <tr>\n",
              "      <th>min</th>\n",
              "      <td>18.000000</td>\n",
              "      <td>NaN</td>\n",
              "      <td>15.960000</td>\n",
              "      <td>0.000000</td>\n",
              "      <td>NaN</td>\n",
              "      <td>NaN</td>\n",
              "      <td>1121.873900</td>\n",
              "    </tr>\n",
              "    <tr>\n",
              "      <th>25%</th>\n",
              "      <td>27.000000</td>\n",
              "      <td>NaN</td>\n",
              "      <td>26.296250</td>\n",
              "      <td>0.000000</td>\n",
              "      <td>NaN</td>\n",
              "      <td>NaN</td>\n",
              "      <td>4740.287150</td>\n",
              "    </tr>\n",
              "    <tr>\n",
              "      <th>50%</th>\n",
              "      <td>39.000000</td>\n",
              "      <td>NaN</td>\n",
              "      <td>30.400000</td>\n",
              "      <td>1.000000</td>\n",
              "      <td>NaN</td>\n",
              "      <td>NaN</td>\n",
              "      <td>9382.033000</td>\n",
              "    </tr>\n",
              "    <tr>\n",
              "      <th>75%</th>\n",
              "      <td>51.000000</td>\n",
              "      <td>NaN</td>\n",
              "      <td>34.693750</td>\n",
              "      <td>2.000000</td>\n",
              "      <td>NaN</td>\n",
              "      <td>NaN</td>\n",
              "      <td>16639.912515</td>\n",
              "    </tr>\n",
              "    <tr>\n",
              "      <th>max</th>\n",
              "      <td>64.000000</td>\n",
              "      <td>NaN</td>\n",
              "      <td>53.130000</td>\n",
              "      <td>5.000000</td>\n",
              "      <td>NaN</td>\n",
              "      <td>NaN</td>\n",
              "      <td>63770.428010</td>\n",
              "    </tr>\n",
              "  </tbody>\n",
              "</table>\n",
              "</div>"
            ],
            "text/plain": [
              "                age   sex          bmi     children smoker     region  \\\n",
              "count   1338.000000  1338  1338.000000  1338.000000   1338       1338   \n",
              "unique          NaN     2          NaN          NaN      2          4   \n",
              "top             NaN  male          NaN          NaN     no  southeast   \n",
              "freq            NaN   676          NaN          NaN   1064        364   \n",
              "mean      39.207025   NaN    30.663397     1.094918    NaN        NaN   \n",
              "std       14.049960   NaN     6.098187     1.205493    NaN        NaN   \n",
              "min       18.000000   NaN    15.960000     0.000000    NaN        NaN   \n",
              "25%       27.000000   NaN    26.296250     0.000000    NaN        NaN   \n",
              "50%       39.000000   NaN    30.400000     1.000000    NaN        NaN   \n",
              "75%       51.000000   NaN    34.693750     2.000000    NaN        NaN   \n",
              "max       64.000000   NaN    53.130000     5.000000    NaN        NaN   \n",
              "\n",
              "             charges  \n",
              "count    1338.000000  \n",
              "unique           NaN  \n",
              "top              NaN  \n",
              "freq             NaN  \n",
              "mean    13270.422265  \n",
              "std     12110.011237  \n",
              "min      1121.873900  \n",
              "25%      4740.287150  \n",
              "50%      9382.033000  \n",
              "75%     16639.912515  \n",
              "max     63770.428010  "
            ]
          },
          "execution_count": 6,
          "metadata": {},
          "output_type": "execute_result"
        }
      ],
      "source": [
        "df.describe(include='all') # get summary statistics of dataframe"
      ]
    },
    {
      "cell_type": "markdown",
      "metadata": {},
      "source": [
        "Check for missing values"
      ]
    },
    {
      "cell_type": "code",
      "execution_count": null,
      "metadata": {},
      "outputs": [
        {
          "data": {
            "text/plain": [
              "age         0\n",
              "sex         0\n",
              "bmi         0\n",
              "children    0\n",
              "smoker      0\n",
              "region      0\n",
              "charges     0\n",
              "dtype: int64"
            ]
          },
          "execution_count": 7,
          "metadata": {},
          "output_type": "execute_result"
        }
      ],
      "source": [
        "#check for missing values\n",
        "df.isnull().sum()\n"
      ]
    },
    {
      "cell_type": "markdown",
      "metadata": {},
      "source": [
        "check for duplicates"
      ]
    },
    {
      "cell_type": "code",
      "execution_count": null,
      "metadata": {},
      "outputs": [
        {
          "data": {
            "text/plain": [
              "1"
            ]
          },
          "execution_count": 8,
          "metadata": {},
          "output_type": "execute_result"
        }
      ],
      "source": [
        "#check for duplicates\n",
        "duplicate = df.duplicated().sum()\n",
        "duplicate"
      ]
    },
    {
      "cell_type": "markdown",
      "metadata": {},
      "source": [
        "Remove Duplicates and checking"
      ]
    },
    {
      "cell_type": "code",
      "execution_count": null,
      "metadata": {},
      "outputs": [
        {
          "data": {
            "text/plain": [
              "0"
            ]
          },
          "execution_count": 9,
          "metadata": {},
          "output_type": "execute_result"
        }
      ],
      "source": [
        "#remove duplicates\n",
        "df = df.drop_duplicates().reset_index(drop=True)\n",
        "\n",
        "duplicatech = df.duplicated().sum() #check that duplicates are gone\n",
        "duplicatech"
      ]
    },
    {
      "cell_type": "markdown",
      "metadata": {},
      "source": [
        "Check for NAN"
      ]
    },
    {
      "cell_type": "code",
      "execution_count": null,
      "metadata": {},
      "outputs": [
        {
          "data": {
            "text/plain": [
              "age         0\n",
              "sex         0\n",
              "bmi         0\n",
              "children    0\n",
              "smoker      0\n",
              "region      0\n",
              "charges     0\n",
              "dtype: int64"
            ]
          },
          "execution_count": 10,
          "metadata": {},
          "output_type": "execute_result"
        }
      ],
      "source": [
        "#check for nans\n",
        "df.isna().sum() #\n",
        "\n"
      ]
    },
    {
      "cell_type": "markdown",
      "metadata": {},
      "source": [
        "There are no NANs in the data set"
      ]
    },
    {
      "cell_type": "markdown",
      "metadata": {},
      "source": [
        "Normalise the data to make sure that all the categories will be consistent\n",
        "\n",
        "\n",
        "Expect that there are Male and female are recorded correctly for sex and the spellings and spaces are correct\n",
        "Expect that the regions are spelt consistently and spaces etc are consistent\n",
        "Expect that the smoking is Yes or no and the spelling are consistent\n"
      ]
    },
    {
      "cell_type": "code",
      "execution_count": null,
      "metadata": {},
      "outputs": [],
      "source": [
        "# check male and female is spelt correctly \n",
        "df[\"sex\"] = df[\"sex\"].str.strip().str.lower()\n",
        "\n",
        "\n",
        "# check region is spelt correctly \n",
        "df[\"region\"] = df[\"region\"].str.strip().str.lower() #  can also do this  print(df['region'].unique()) and id all unique don't need to strip\n",
        "\n",
        "\n",
        "# check smoking is set to yes or no\n",
        "df[\"smoker\"] = df[\"smoker\"].str.strip().str.lower()\n",
        "\n",
        "\n",
        "\n",
        "\n"
      ]
    },
    {
      "cell_type": "markdown",
      "metadata": {},
      "source": [
        "# Values count"
      ]
    },
    {
      "cell_type": "code",
      "execution_count": null,
      "metadata": {},
      "outputs": [
        {
          "data": {
            "text/plain": [
              "sex\n",
              "male      675\n",
              "female    662\n",
              "Name: count, dtype: int64"
            ]
          },
          "execution_count": 12,
          "metadata": {},
          "output_type": "execute_result"
        }
      ],
      "source": [
        "# value counts\n",
        "df[\"sex\"].value_counts()\n",
        "\n",
        "\n"
      ]
    },
    {
      "cell_type": "code",
      "execution_count": null,
      "metadata": {},
      "outputs": [
        {
          "data": {
            "text/plain": [
              "region\n",
              "southeast    364\n",
              "southwest    325\n",
              "northwest    324\n",
              "northeast    324\n",
              "Name: count, dtype: int64"
            ]
          },
          "execution_count": 13,
          "metadata": {},
          "output_type": "execute_result"
        }
      ],
      "source": [
        "df[\"region\"].value_counts()\n"
      ]
    },
    {
      "cell_type": "code",
      "execution_count": null,
      "metadata": {},
      "outputs": [
        {
          "data": {
            "text/plain": [
              "smoker\n",
              "no     1063\n",
              "yes     274\n",
              "Name: count, dtype: int64"
            ]
          },
          "execution_count": 14,
          "metadata": {},
          "output_type": "execute_result"
        }
      ],
      "source": [
        "df[\"smoker\"].value_counts()\n"
      ]
    },
    {
      "cell_type": "code",
      "execution_count": null,
      "metadata": {},
      "outputs": [
        {
          "data": {
            "text/plain": [
              "children\n",
              "0    573\n",
              "1    324\n",
              "2    240\n",
              "3    157\n",
              "4     25\n",
              "5     18\n",
              "Name: count, dtype: int64"
            ]
          },
          "execution_count": 15,
          "metadata": {},
          "output_type": "execute_result"
        }
      ],
      "source": [
        "df[\"children\"].value_counts()\n"
      ]
    },
    {
      "cell_type": "code",
      "execution_count": null,
      "metadata": {},
      "outputs": [
        {
          "data": {
            "text/plain": [
              "age\n",
              "18    69\n",
              "19    67\n",
              "50    29\n",
              "51    29\n",
              "47    29\n",
              "46    29\n",
              "45    29\n",
              "20    29\n",
              "48    29\n",
              "52    29\n",
              "22    28\n",
              "49    28\n",
              "54    28\n",
              "53    28\n",
              "21    28\n",
              "26    28\n",
              "24    28\n",
              "25    28\n",
              "28    28\n",
              "27    28\n",
              "23    28\n",
              "43    27\n",
              "29    27\n",
              "30    27\n",
              "41    27\n",
              "42    27\n",
              "44    27\n",
              "31    27\n",
              "40    27\n",
              "32    26\n",
              "33    26\n",
              "56    26\n",
              "34    26\n",
              "55    26\n",
              "57    26\n",
              "37    25\n",
              "59    25\n",
              "58    25\n",
              "36    25\n",
              "38    25\n",
              "35    25\n",
              "39    25\n",
              "61    23\n",
              "60    23\n",
              "63    23\n",
              "62    23\n",
              "64    22\n",
              "Name: count, dtype: int64"
            ]
          },
          "execution_count": 16,
          "metadata": {},
          "output_type": "execute_result"
        }
      ],
      "source": [
        "df[\"age\"].value_counts()\n"
      ]
    },
    {
      "cell_type": "code",
      "execution_count": null,
      "metadata": {},
      "outputs": [
        {
          "data": {
            "text/plain": [
              "bmi\n",
              "32.30    13\n",
              "28.31     9\n",
              "30.80     8\n",
              "31.35     8\n",
              "28.88     8\n",
              "         ..\n",
              "46.20     1\n",
              "23.80     1\n",
              "44.77     1\n",
              "32.12     1\n",
              "30.97     1\n",
              "Name: count, Length: 548, dtype: int64"
            ]
          },
          "execution_count": 17,
          "metadata": {},
          "output_type": "execute_result"
        }
      ],
      "source": [
        "df[\"bmi\"].value_counts()\n"
      ]
    },
    {
      "cell_type": "code",
      "execution_count": null,
      "metadata": {},
      "outputs": [
        {
          "data": {
            "text/plain": [
              "charges\n",
              "16884.92400    1\n",
              "2117.33885     1\n",
              "2221.56445     1\n",
              "19798.05455    1\n",
              "13063.88300    1\n",
              "              ..\n",
              "7345.08400     1\n",
              "26109.32905    1\n",
              "28287.89766    1\n",
              "1149.39590     1\n",
              "29141.36030    1\n",
              "Name: count, Length: 1337, dtype: int64"
            ]
          },
          "execution_count": 18,
          "metadata": {},
          "output_type": "execute_result"
        }
      ],
      "source": [
        "df[\"charges\"].value_counts()"
      ]
    },
    {
      "cell_type": "markdown",
      "metadata": {},
      "source": [
        "Histogram of all variables to show shapes"
      ]
    },
    {
      "cell_type": "code",
      "execution_count": null,
      "metadata": {},
      "outputs": [
        {
          "data": {
            "text/plain": [
              "array([[<Axes: title={'center': 'age'}>, <Axes: title={'center': 'bmi'}>],\n",
              "       [<Axes: title={'center': 'children'}>,\n",
              "        <Axes: title={'center': 'charges'}>]], dtype=object)"
            ]
          },
          "execution_count": 19,
          "metadata": {},
          "output_type": "execute_result"
        },
        {
          "data": {
            "image/png": "[encoded data removed]",
            "text/plain": [
              "<Figure size 640x480 with 4 Axes>"
            ]
          },
          "metadata": {},
          "output_type": "display_data"
        }
      ],
      "source": [
        "df.hist()"
      ]
    },
    {
      "cell_type": "markdown",
      "metadata": {},
      "source": [
        "#Summary \n",
        "\n",
        "Age is an uniform distribution there is a single peak to the left\n",
        "\n",
        "BMI has a normal distribution according with some high values greater than 45.\n",
        "\n",
        "Charges are strongly skewed to the right - most charges appear to be under 15K according to the histogram\n",
        "\n",
        "For children most people have three or under"
      ]
    },
    {
      "cell_type": "code",
      "execution_count": null,
      "metadata": {},
      "outputs": [],
      "source": [
        "\"\"\"\n",
        "Since 'bmi' is a continuous variable create function for BMI category groupings can categorize it into groups for better analysis. Category data taken from https://www.cdc.gov/\n",
        "\"\"\"\n",
        "def bmi_category(bmi):\n",
        "    if bmi < 18.5:\n",
        "        return 'Underweight'\n",
        "    elif bmi >= 18.5 and bmi < 25:\n",
        "        return 'Normal weight'\n",
        "    elif bmi >= 25 and bmi < 30:\n",
        "        return 'Overweight'\n",
        "    elif bmi >=30 and bmi < 35:\n",
        "        return 'Obesity I'\n",
        "    elif bmi >= 35 and bmi < 40:\n",
        "        return 'Obesity II'\n",
        "    else:\n",
        "        return 'Obesity III'\n",
        "    \n",
        "# apply the function to my dataset\n",
        "df['bmi_category'] = df['bmi'].apply(bmi_category)\n",
        "\n",
        "# set medical order to bmi to help clarity of seeing impact of each medical category\n",
        "bmi_order = [\n",
        "    'Underweight',\n",
        "    'Normal weight',\n",
        "    'Overweight',\n",
        "    'Obesity I',\n",
        "    'Obesity II',\n",
        "    'Obesity III'\n",
        "]"
      ]
    },
    {
      "cell_type": "code",
      "execution_count": null,
      "metadata": {},
      "outputs": [
        {
          "data": {
            "text/plain": [
              "bmi_category\n",
              "Normal weight    225\n",
              "Obesity I        390\n",
              "Obesity II       225\n",
              "Obesity III       91\n",
              "Overweight       386\n",
              "Underweight       20\n",
              "Name: count, dtype: int64"
            ]
          },
          "execution_count": 21,
          "metadata": {},
          "output_type": "execute_result"
        }
      ],
      "source": [
        "df['bmi_category'].value_counts().sort_index()"
      ]
    },
    {
      "cell_type": "code",
      "execution_count": null,
      "metadata": {},
      "outputs": [
        {
          "name": "stdout",
          "output_type": "stream",
          "text": [
            "bmi_category   smoker\n",
            "Normal weight  no         7685.656014\n",
            "               yes       19942.223641\n",
            "Obesity I      no         8553.954038\n",
            "               yes       39640.592893\n",
            "Obesity II     no         9670.440600\n",
            "               yes       42753.622873\n",
            "Obesity III    no         8179.664367\n",
            "               yes       45467.786146\n",
            "Overweight     no         8257.961955\n",
            "               yes       22495.874163\n",
            "Underweight    no         5532.992453\n",
            "               yes       18809.824980\n",
            "Name: charges, dtype: float64\n"
          ]
        }
      ],
      "source": [
        "grouped = df.groupby(['bmi_category', 'smoker'], observed=True)['charges'].mean()\n",
        "print(grouped)"
      ]
    },
    {
      "cell_type": "code",
      "execution_count": null,
      "metadata": {},
      "outputs": [
        {
          "name": "stdout",
          "output_type": "stream",
          "text": [
            "smoker             no      yes difference percent_diff\n",
            "bmi_category                                          \n",
            "Normal weight  £7,686  £19,942    £12,257       159.5%\n",
            "Obesity I      £8,554  £39,641    £31,087       363.4%\n",
            "Obesity II     £9,670  £42,754    £33,083       342.1%\n",
            "Obesity III    £8,180  £45,468    £37,288       455.9%\n",
            "Overweight     £8,258  £22,496    £14,238       172.4%\n",
            "Underweight    £5,533  £18,810    £13,277       240.0%\n"
          ]
        }
      ],
      "source": [
        "# Group and calculate mean charges by bmi_category and smoker\n",
        "pivot = df.groupby(['bmi_category', 'smoker'], observed=True)['charges'].mean().unstack()\n",
        "\t\n",
        "# 2. Calculate difference and percent difference (numeric)\n",
        "pivot['difference'] = pivot['yes'] - pivot['no']\n",
        "pivot['percent_diff'] = (pivot['difference'] / pivot['no']) * 100\n",
        "\t\n",
        "# 3. Format the currency columns\n",
        "pivot['no'] = pivot['no'].map(lambda x: f\"£{x:,.0f}\")\n",
        "pivot['yes'] = pivot['yes'].map(lambda x: f\"£{x:,.0f}\")\n",
        "pivot['difference'] = pivot['difference'].map(lambda x: f\"£{x:,.0f}\")\n",
        "\n",
        "# 4. Format the percent difference column\n",
        "pivot['percent_diff'] = pivot['percent_diff'].map(lambda x: f\"{x:.1f}%\")\n",
        "print(pivot)\n"
      ]
    },
    {
      "cell_type": "markdown",
      "metadata": {},
      "source": [
        "Focus on 'BMI' and 'Age' as a factor in Healthcare cost"
      ]
    },
    {
      "cell_type": "code",
      "execution_count": null,
      "metadata": {},
      "outputs": [
        {
          "name": "stdout",
          "output_type": "stream",
          "text": [
            "      bmi_category  age  charges\n",
            "0    Normal weight   18   £4,852\n",
            "1    Normal weight   19   £2,622\n",
            "2    Normal weight   20  £15,742\n",
            "3    Normal weight   21   £4,526\n",
            "4    Normal weight   22   £3,142\n",
            "..             ...  ...      ...\n",
            "240    Underweight   39  £19,023\n",
            "241    Underweight   51   £9,644\n",
            "242    Underweight   52   £9,991\n",
            "243    Underweight   57  £11,535\n",
            "244    Underweight   60  £13,204\n",
            "\n",
            "[245 rows x 3 columns]\n"
          ]
        }
      ],
      "source": [
        "grouped = df.groupby(['bmi_category', 'age'], observed=True)['charges'].mean().reset_index()\n",
        "\n",
        "grouped['charges'] = grouped['charges'].map(lambda x: f\"£{x:,.0f}\")\n",
        "\n",
        "print(grouped)\n",
        "\n"
      ]
    },
    {
      "cell_type": "markdown",
      "metadata": {},
      "source": [
        "Convert from Long to Wide format for better reading and understanding of Dataset"
      ]
    },
    {
      "cell_type": "code",
      "execution_count": null,
      "metadata": {},
      "outputs": [
        {
          "name": "stdout",
          "output_type": "stream",
          "text": [
            "    bmi_category      18       19       20      21       22       23       24  \\\n",
            "0  Normal weight  £4,852   £2,622  £15,742  £4,526   £3,142  £12,642   £8,213   \n",
            "1      Obesity I  £7,977  £18,791   £5,009  £7,666   £9,805  £14,642  £12,752   \n",
            "2     Obesity II  £8,452   £6,896  £27,091  £1,883  £19,473  £12,007   £2,234   \n",
            "3    Obesity III  £6,903  £20,741   £1,984      £0  £44,501  £15,060  £38,126   \n",
            "4     Overweight  £6,206   £8,824   £7,651  £4,563   £2,152   £9,464   £9,478   \n",
            "5    Underweight  £7,262   £1,675       £0  £2,876       £0   £2,775       £0   \n",
            "\n",
            "        25      26  ...       55       56       57       58       59       60  \\\n",
            "0   £8,363  £3,104  ...  £10,792  £16,495  £13,809  £11,590  £19,001  £12,820   \n",
            "1  £13,045  £8,048  ...  £15,549  £20,011  £16,449  £12,301  £18,212  £34,058   \n",
            "2   £2,534  £2,323  ...  £21,242  £11,599  £12,646  £17,613  £24,515  £19,887   \n",
            "3  £21,077  £3,180  ...  £12,486  £10,848  £20,702  £17,804  £48,970  £48,674   \n",
            "4   £5,201  £7,089  ...  £14,258  £13,099  £16,536  £11,966  £14,316  £17,521   \n",
            "5       £0  £8,568  ...       £0       £0  £11,535       £0       £0  £13,204   \n",
            "\n",
            "        61       62       63       64  \n",
            "0  £13,387  £12,957  £14,417  £28,044  \n",
            "1  £17,162  £21,832  £19,518  £29,021  \n",
            "2  £30,183  £16,105  £23,897  £19,030  \n",
            "3  £12,819       £0  £14,480  £13,831  \n",
            "4  £25,301  £19,351  £20,151  £19,571  \n",
            "5       £0       £0       £0       £0  \n",
            "\n",
            "[6 rows x 48 columns]\n"
          ]
        }
      ],
      "source": [
        "pivot_table = pd.pivot_table(\n",
        "\t    df,\n",
        "\t    values='charges',               # Column to aggregate\n",
        "\t    index='bmi_category',          # Rows\n",
        "\t    columns='age',                 # Columns\n",
        "\t    aggfunc='mean',                # Aggregation function\n",
        "\t    fill_value=0                   # Replace missing values with 0\n",
        ").reset_index().rename_axis(mapper=None, axis=1)\n",
        "age_cols = pivot_table.columns.drop('bmi_category')\n",
        "\n",
        "pivot_table[age_cols] = pivot_table[age_cols].map(lambda x: f\"£{x:,.0f}\")\n",
        "print(pivot_table)"
      ]
    },
    {
      "cell_type": "code",
      "execution_count": null,
      "metadata": {},
      "outputs": [
        {
          "data": {
            "text/html": [
              "<div>\n",
              "<style scoped>\n",
              "    .dataframe tbody tr th:only-of-type {\n",
              "        vertical-align: middle;\n",
              "    }\n",
              "\n",
              "    .dataframe tbody tr th {\n",
              "        vertical-align: top;\n",
              "    }\n",
              "\n",
              "    .dataframe thead th {\n",
              "        text-align: right;\n",
              "    }\n",
              "</style>\n",
              "<table border=\"1\" class=\"dataframe\">\n",
              "  <thead>\n",
              "    <tr style=\"text-align: right;\">\n",
              "      <th></th>\n",
              "      <th>age</th>\n",
              "      <th>sex</th>\n",
              "      <th>bmi</th>\n",
              "      <th>children</th>\n",
              "      <th>smoker</th>\n",
              "      <th>region</th>\n",
              "      <th>charges</th>\n",
              "      <th>bmi_category</th>\n",
              "      <th>age_band</th>\n",
              "    </tr>\n",
              "  </thead>\n",
              "  <tbody>\n",
              "    <tr>\n",
              "      <th>0</th>\n",
              "      <td>19</td>\n",
              "      <td>female</td>\n",
              "      <td>27.900</td>\n",
              "      <td>0</td>\n",
              "      <td>yes</td>\n",
              "      <td>southwest</td>\n",
              "      <td>16884.92400</td>\n",
              "      <td>Overweight</td>\n",
              "      <td>18-25</td>\n",
              "    </tr>\n",
              "    <tr>\n",
              "      <th>1</th>\n",
              "      <td>18</td>\n",
              "      <td>male</td>\n",
              "      <td>33.770</td>\n",
              "      <td>1</td>\n",
              "      <td>no</td>\n",
              "      <td>southeast</td>\n",
              "      <td>1725.55230</td>\n",
              "      <td>Obesity I</td>\n",
              "      <td>18-25</td>\n",
              "    </tr>\n",
              "    <tr>\n",
              "      <th>2</th>\n",
              "      <td>28</td>\n",
              "      <td>male</td>\n",
              "      <td>33.000</td>\n",
              "      <td>3</td>\n",
              "      <td>no</td>\n",
              "      <td>southeast</td>\n",
              "      <td>4449.46200</td>\n",
              "      <td>Obesity I</td>\n",
              "      <td>26-34</td>\n",
              "    </tr>\n",
              "    <tr>\n",
              "      <th>3</th>\n",
              "      <td>33</td>\n",
              "      <td>male</td>\n",
              "      <td>22.705</td>\n",
              "      <td>0</td>\n",
              "      <td>no</td>\n",
              "      <td>northwest</td>\n",
              "      <td>21984.47061</td>\n",
              "      <td>Normal weight</td>\n",
              "      <td>26-34</td>\n",
              "    </tr>\n",
              "    <tr>\n",
              "      <th>4</th>\n",
              "      <td>32</td>\n",
              "      <td>male</td>\n",
              "      <td>28.880</td>\n",
              "      <td>0</td>\n",
              "      <td>no</td>\n",
              "      <td>northwest</td>\n",
              "      <td>3866.85520</td>\n",
              "      <td>Overweight</td>\n",
              "      <td>26-34</td>\n",
              "    </tr>\n",
              "  </tbody>\n",
              "</table>\n",
              "</div>"
            ],
            "text/plain": [
              "   age     sex     bmi  children smoker     region      charges  \\\n",
              "0   19  female  27.900         0    yes  southwest  16884.92400   \n",
              "1   18    male  33.770         1     no  southeast   1725.55230   \n",
              "2   28    male  33.000         3     no  southeast   4449.46200   \n",
              "3   33    male  22.705         0     no  northwest  21984.47061   \n",
              "4   32    male  28.880         0     no  northwest   3866.85520   \n",
              "\n",
              "    bmi_category age_band  \n",
              "0     Overweight    18-25  \n",
              "1      Obesity I    18-25  \n",
              "2      Obesity I    26-34  \n",
              "3  Normal weight    26-34  \n",
              "4     Overweight    26-34  "
            ]
          },
          "execution_count": 26,
          "metadata": {},
          "output_type": "execute_result"
        }
      ],
      "source": [
        "# Define buckets and labels for age bands\n",
        "\n",
        "bins   = [-float(\"inf\"), 18, 26, 35, 50, 70, 80, float(\"inf\")]\n",
        "labels = [\"<18\", \"18-25\", \"26-34\", \"35-49\", \"50-69\", \"70-79\", \"80+\"]\n",
        "\n",
        "# create age buckets \n",
        "df[\"age_band\"] = pd.cut(df[\"age\"], bins=bins, labels=labels, right=False)\n",
        "df.head() # displays the first first few rows of dataframe"
      ]
    },
    {
      "cell_type": "code",
      "execution_count": null,
      "metadata": {},
      "outputs": [
        {
          "name": "stdout",
          "output_type": "stream",
          "text": [
            "0              none\n",
            "1           1 child\n",
            "2       3+ children\n",
            "3              none\n",
            "4              none\n",
            "           ...     \n",
            "1332    3+ children\n",
            "1333           none\n",
            "1334           none\n",
            "1335           none\n",
            "1336           none\n",
            "Name: children_group, Length: 1337, dtype: category\n",
            "Categories (4, object): ['none' < '1 child' < '2 children' < '3+ children']\n",
            "children_group\n",
            "none           573\n",
            "1 child        324\n",
            "2 children     240\n",
            "3+ children    200\n",
            "Name: count, dtype: int64\n"
          ]
        }
      ],
      "source": [
        "# Group children into categories\n",
        "df[\"children_group\"] = pd.cut(\n",
        "    df[\"children\"],\n",
        "    bins=[-0.5, 0.5, 1.5, 2.5, float(\"inf\")],   # bucket edges\n",
        "    labels=[\"none\", \"1 child\", \"2 children\", \"3+ children\"]\n",
        ")\n",
        "\n",
        "print(df[\"children_group\"])\n",
        "\n",
        "# Create an order to the counts to help with visualisation\n",
        "order = [\"none\", \"1 child\", \"2 children\", \"3+ children\"]\n",
        "\n",
        "group_counts = (\n",
        "    df[\"children_group\"]\n",
        "      .value_counts()\n",
        "      .reindex(order, fill_value=0)\n",
        ")\n",
        "# check its in the right order and all values are there\n",
        "print(group_counts)"
      ]
    },
    {
      "cell_type": "markdown",
      "metadata": {},
      "source": [
        "## Statistical testing and outliers\n",
        "\n",
        "### One-way ANOVA (Children → Charges)\n",
        "We tested whether mean charges differ across the raw number of children (0–5) using a one-way ANOVA. The test was significant (F=3.27, p=0.006), which tells us at least one children group differs in mean charges, but it does not say which groups differ.\n",
        "\n",
        "Note the group sizes are uneven: most people have 0–2 children, while only 43 people have 4–5 children (4=25, 5=18). Small groups can distort averages. Also, ANOVA does not control for other drivers such as smoking, age, BMI, or region.\n",
        "\n",
        "### Multiple regression (Adjusted effects)\n",
        "We fit a multiple OLS regression to estimate effects while controlling for other factors:\n",
        "\n",
        "- **Model:** charges ~ C(children) + C(smoker) + age + bmi + C(region)\n",
        "- **Fit:** R² = 0.752 (Adj. R² = 0.750), F-test p < 0.001.\n",
        "\n",
        "**Key results (vs reference levels: 0 children, Northeast, non-smoker):**\n",
        "- **Smoking (yes):** ~£23.8k higher, p < 0.001 (largest effect).\n",
        "- **Age:** ~£257 more per additional year, p < 0.001.\n",
        "- **BMI:** ~£336 more per BMI unit, p < 0.001.\n",
        "- **Children:** 2 kids (+£1,633, p < 0.001) and 4 children (+£2,936, p = 0.018) are significantly higher than 0; 1, 3, 5 not significant.\n",
        "- **Region:** Southeast (−£1,033, p = 0.031) and Southwest (−£952, p = 0.047) are significantly lower than Northeast; Northwest not significant.\n",
        "\n",
        "### Reduced models (for comparison)\n",
        "We compared two simpler models to see whether age or BMI adds more explanatory power alongside smoking:\n",
        "\n",
        "- **Model 1:** charges ~ C(smoker) + age` R² = 0.721\n",
        "- **Model 2:** charges ~ C(smoker) + bmi` R² = 0.658\n",
        "\n",
        "**Interpretation:** Smoking dominates in both, but age adds more than BMI when paired with smoking.\n",
        "\n",
        "### Smoking by region (Chi-square)\n",
        "We tested whether smoker prevalence differs by region (chi-square). Result: χ²=7.28, **p = 0.064** → not significant at 5%. So regional charge differences are **unlikely** to be explained solely by different smoking rates.\n",
        "\n",
        "### BMI category by region (Chi-square)\n",
        "BMI categories vary significantly by region (χ²=119.85, p < 1e-17). The Southeast has a notably higher count of Class III Obesity (~56 vs 8–16 elsewhere). This explains the large chi-square.  \n",
        "However, in the regression (which controls for BMI, age, smoking, etc.), Southeast still shows lower charges than Northeast—suggesting other factors beyond the BMI mix (e.g., cost structures or unobserved variables).\n",
        "\n",
        "### High-cost flag\n",
        "We tagged high-cost cases using a business rule threshold of £40,000:\n",
        "\n",
        "- cost_group = \"High Cost\" if charges were greater than 40,000 (else `\"Normal').\n",
        "\n",
        "**Note:** Outliers were identified using the IQR method (statistical approach).  In addition, we applied a business threshold for “high cost” cases, defined as charges greater than £40,000.  This threshold goes beyond the typical statistical range and would need to be validated and potentially refined through further review with business stakeholders.\n"
      ]
    },
    {
      "cell_type": "code",
      "execution_count": null,
      "metadata": {},
      "outputs": [
        {
          "name": "stdout",
          "output_type": "stream",
          "text": [
            "F-statistic: 3.2687344101195737\n",
            "p-value: 0.006133448188169501\n"
          ]
        }
      ],
      "source": [
        "# ANOVA test to see if there are significant differences in charges based on number of children\n",
        "import scipy.stats as stats\n",
        "\n",
        "# Run ANOVA\n",
        "groups = [df.loc[df[\"children\"]==n, \"charges\"] for n in sorted(df[\"children\"].unique())]\n",
        "f_stat, p_val = stats.f_oneway(*groups)\n",
        "\n",
        "print(\"F-statistic:\", f_stat)\n",
        "print(\"p-value:\", p_val)\n"
      ]
    },
    {
      "cell_type": "markdown",
      "metadata": {},
      "source": [
        "# OLS Regression model \n",
        "This model is a model covering all predictors together (children, smoker, age, bmi, region). It tells you the effect of each factor while controlling for the others.\n",
        "\n",
        "This is usually the final model you interpret, because it gives the clearest overall picture.\n",
        "The below is a regression model, sometimes called a multiple regression analysis. The results indicate:\n",
        "- Smoking, age, and BMI are the strongest, most consistent predictors of higher medical charges.\n",
        "- Having 2 or 4 children also adds significant cost compared to none.\n",
        "- Living in the southeast or southwest is linked to slightly lower charges compared to the northeast.\n"
      ]
    },
    {
      "cell_type": "code",
      "execution_count": null,
      "metadata": {},
      "outputs": [
        {
          "data": {
            "text/html": [
              "<table class=\"simpletable\">\n",
              "<caption>OLS Regression Results</caption>\n",
              "<tr>\n",
              "  <th>Dep. Variable:</th>         <td>charges</td>     <th>  R-squared:         </th> <td>   0.752</td> \n",
              "</tr>\n",
              "<tr>\n",
              "  <th>Model:</th>                   <td>OLS</td>       <th>  Adj. R-squared:    </th> <td>   0.750</td> \n",
              "</tr>\n",
              "<tr>\n",
              "  <th>Method:</th>             <td>Least Squares</td>  <th>  F-statistic:       </th> <td>   364.7</td> \n",
              "</tr>\n",
              "<tr>\n",
              "  <th>Date:</th>             <td>Wed, 10 Sep 2025</td> <th>  Prob (F-statistic):</th>  <td>  0.00</td>  \n",
              "</tr>\n",
              "<tr>\n",
              "  <th>Time:</th>                 <td>10:11:10</td>     <th>  Log-Likelihood:    </th> <td> -13535.</td> \n",
              "</tr>\n",
              "<tr>\n",
              "  <th>No. Observations:</th>      <td>  1337</td>      <th>  AIC:               </th> <td>2.709e+04</td>\n",
              "</tr>\n",
              "<tr>\n",
              "  <th>Df Residuals:</th>          <td>  1325</td>      <th>  BIC:               </th> <td>2.716e+04</td>\n",
              "</tr>\n",
              "<tr>\n",
              "  <th>Df Model:</th>              <td>    11</td>      <th>                     </th>     <td> </td>    \n",
              "</tr>\n",
              "<tr>\n",
              "  <th>Covariance Type:</th>      <td>nonrobust</td>    <th>                     </th>     <td> </td>    \n",
              "</tr>\n",
              "</table>\n",
              "<table class=\"simpletable\">\n",
              "<tr>\n",
              "             <td></td>               <th>coef</th>     <th>std err</th>      <th>t</th>      <th>P>|t|</th>  <th>[0.025</th>    <th>0.975]</th>  \n",
              "</tr>\n",
              "<tr>\n",
              "  <th>Intercept</th>              <td>-1.197e+04</td> <td>  985.270</td> <td>  -12.153</td> <td> 0.000</td> <td>-1.39e+04</td> <td>   -1e+04</td>\n",
              "</tr>\n",
              "<tr>\n",
              "  <th>C(children)[T.1]</th>       <td>  386.7277</td> <td>  421.449</td> <td>    0.918</td> <td> 0.359</td> <td> -440.052</td> <td> 1213.508</td>\n",
              "</tr>\n",
              "<tr>\n",
              "  <th>C(children)[T.2]</th>       <td> 1633.0853</td> <td>  466.816</td> <td>    3.498</td> <td> 0.000</td> <td>  717.306</td> <td> 2548.865</td>\n",
              "</tr>\n",
              "<tr>\n",
              "  <th>C(children)[T.3]</th>       <td>  960.9845</td> <td>  548.203</td> <td>    1.753</td> <td> 0.080</td> <td> -114.456</td> <td> 2036.425</td>\n",
              "</tr>\n",
              "<tr>\n",
              "  <th>C(children)[T.4]</th>       <td> 2936.4380</td> <td> 1239.059</td> <td>    2.370</td> <td> 0.018</td> <td>  505.706</td> <td> 5367.170</td>\n",
              "</tr>\n",
              "<tr>\n",
              "  <th>C(children)[T.5]</th>       <td> 1104.7042</td> <td> 1455.890</td> <td>    0.759</td> <td> 0.448</td> <td>-1751.397</td> <td> 3960.805</td>\n",
              "</tr>\n",
              "<tr>\n",
              "  <th>C(smoker)[T.yes]</th>       <td> 2.382e+04</td> <td>  412.980</td> <td>   57.686</td> <td> 0.000</td> <td>  2.3e+04</td> <td> 2.46e+04</td>\n",
              "</tr>\n",
              "<tr>\n",
              "  <th>C(region)[T.northwest]</th> <td> -375.7093</td> <td>  476.956</td> <td>   -0.788</td> <td> 0.431</td> <td>-1311.381</td> <td>  559.962</td>\n",
              "</tr>\n",
              "<tr>\n",
              "  <th>C(region)[T.southeast]</th> <td>-1032.6450</td> <td>  479.157</td> <td>   -2.155</td> <td> 0.031</td> <td>-1972.633</td> <td>  -92.657</td>\n",
              "</tr>\n",
              "<tr>\n",
              "  <th>C(region)[T.southwest]</th> <td> -952.2078</td> <td>  478.170</td> <td>   -1.991</td> <td> 0.047</td> <td>-1890.260</td> <td>  -14.156</td>\n",
              "</tr>\n",
              "<tr>\n",
              "  <th>age</th>                    <td>  257.2131</td> <td>   11.921</td> <td>   21.577</td> <td> 0.000</td> <td>  233.828</td> <td>  280.598</td>\n",
              "</tr>\n",
              "<tr>\n",
              "  <th>bmi</th>                    <td>  336.4528</td> <td>   28.583</td> <td>   11.771</td> <td> 0.000</td> <td>  280.379</td> <td>  392.526</td>\n",
              "</tr>\n",
              "</table>\n",
              "<table class=\"simpletable\">\n",
              "<tr>\n",
              "  <th>Omnibus:</th>       <td>293.819</td> <th>  Durbin-Watson:     </th> <td>   2.086</td> \n",
              "</tr>\n",
              "<tr>\n",
              "  <th>Prob(Omnibus):</th> <td> 0.000</td>  <th>  Jarque-Bera (JB):  </th> <td> 695.137</td> \n",
              "</tr>\n",
              "<tr>\n",
              "  <th>Skew:</th>          <td> 1.191</td>  <th>  Prob(JB):          </th> <td>1.13e-151</td>\n",
              "</tr>\n",
              "<tr>\n",
              "  <th>Kurtosis:</th>      <td> 5.608</td>  <th>  Cond. No.          </th> <td>    453.</td> \n",
              "</tr>\n",
              "</table><br/><br/>Notes:<br/>[1] Standard Errors assume that the covariance matrix of the errors is correctly specified."
            ],
            "text/latex": [
              "\\begin{center}\n",
              "\\begin{tabular}{lclc}\n",
              "\\toprule\n",
              "\\textbf{Dep. Variable:}         &     charges      & \\textbf{  R-squared:         } &     0.752   \\\\\n",
              "\\textbf{Model:}                 &       OLS        & \\textbf{  Adj. R-squared:    } &     0.750   \\\\\n",
              "\\textbf{Method:}                &  Least Squares   & \\textbf{  F-statistic:       } &     364.7   \\\\\n",
              "\\textbf{Date:}                  & Wed, 10 Sep 2025 & \\textbf{  Prob (F-statistic):} &     0.00    \\\\\n",
              "\\textbf{Time:}                  &     10:11:10     & \\textbf{  Log-Likelihood:    } &   -13535.   \\\\\n",
              "\\textbf{No. Observations:}      &        1337      & \\textbf{  AIC:               } & 2.709e+04   \\\\\n",
              "\\textbf{Df Residuals:}          &        1325      & \\textbf{  BIC:               } & 2.716e+04   \\\\\n",
              "\\textbf{Df Model:}              &          11      & \\textbf{                     } &             \\\\\n",
              "\\textbf{Covariance Type:}       &    nonrobust     & \\textbf{                     } &             \\\\\n",
              "\\bottomrule\n",
              "\\end{tabular}\n",
              "\\begin{tabular}{lcccccc}\n",
              "                                & \\textbf{coef} & \\textbf{std err} & \\textbf{t} & \\textbf{P$> |$t$|$} & \\textbf{[0.025} & \\textbf{0.975]}  \\\\\n",
              "\\midrule\n",
              "\\textbf{Intercept}              &   -1.197e+04  &      985.270     &   -12.153  &         0.000        &    -1.39e+04    &       -1e+04     \\\\\n",
              "\\textbf{C(children)[T.1]}       &     386.7277  &      421.449     &     0.918  &         0.359        &     -440.052    &     1213.508     \\\\\n",
              "\\textbf{C(children)[T.2]}       &    1633.0853  &      466.816     &     3.498  &         0.000        &      717.306    &     2548.865     \\\\\n",
              "\\textbf{C(children)[T.3]}       &     960.9845  &      548.203     &     1.753  &         0.080        &     -114.456    &     2036.425     \\\\\n",
              "\\textbf{C(children)[T.4]}       &    2936.4380  &     1239.059     &     2.370  &         0.018        &      505.706    &     5367.170     \\\\\n",
              "\\textbf{C(children)[T.5]}       &    1104.7042  &     1455.890     &     0.759  &         0.448        &    -1751.397    &     3960.805     \\\\\n",
              "\\textbf{C(smoker)[T.yes]}       &    2.382e+04  &      412.980     &    57.686  &         0.000        &      2.3e+04    &     2.46e+04     \\\\\n",
              "\\textbf{C(region)[T.northwest]} &    -375.7093  &      476.956     &    -0.788  &         0.431        &    -1311.381    &      559.962     \\\\\n",
              "\\textbf{C(region)[T.southeast]} &   -1032.6450  &      479.157     &    -2.155  &         0.031        &    -1972.633    &      -92.657     \\\\\n",
              "\\textbf{C(region)[T.southwest]} &    -952.2078  &      478.170     &    -1.991  &         0.047        &    -1890.260    &      -14.156     \\\\\n",
              "\\textbf{age}                    &     257.2131  &       11.921     &    21.577  &         0.000        &      233.828    &      280.598     \\\\\n",
              "\\textbf{bmi}                    &     336.4528  &       28.583     &    11.771  &         0.000        &      280.379    &      392.526     \\\\\n",
              "\\bottomrule\n",
              "\\end{tabular}\n",
              "\\begin{tabular}{lclc}\n",
              "\\textbf{Omnibus:}       & 293.819 & \\textbf{  Durbin-Watson:     } &     2.086  \\\\\n",
              "\\textbf{Prob(Omnibus):} &   0.000 & \\textbf{  Jarque-Bera (JB):  } &   695.137  \\\\\n",
              "\\textbf{Skew:}          &   1.191 & \\textbf{  Prob(JB):          } & 1.13e-151  \\\\\n",
              "\\textbf{Kurtosis:}      &   5.608 & \\textbf{  Cond. No.          } &      453.  \\\\\n",
              "\\bottomrule\n",
              "\\end{tabular}\n",
              "%\\caption{OLS Regression Results}\n",
              "\\end{center}\n",
              "\n",
              "Notes: \\newline\n",
              " [1] Standard Errors assume that the covariance matrix of the errors is correctly specified."
            ],
            "text/plain": [
              "<class 'statsmodels.iolib.summary.Summary'>\n",
              "\"\"\"\n",
              "                            OLS Regression Results                            \n",
              "==============================================================================\n",
              "Dep. Variable:                charges   R-squared:                       0.752\n",
              "Model:                            OLS   Adj. R-squared:                  0.750\n",
              "Method:                 Least Squares   F-statistic:                     364.7\n",
              "Date:                Wed, 10 Sep 2025   Prob (F-statistic):               0.00\n",
              "Time:                        10:11:10   Log-Likelihood:                -13535.\n",
              "No. Observations:                1337   AIC:                         2.709e+04\n",
              "Df Residuals:                    1325   BIC:                         2.716e+04\n",
              "Df Model:                          11                                         \n",
              "Covariance Type:            nonrobust                                         \n",
              "==========================================================================================\n",
              "                             coef    std err          t      P>|t|      [0.025      0.975]\n",
              "------------------------------------------------------------------------------------------\n",
              "Intercept              -1.197e+04    985.270    -12.153      0.000   -1.39e+04      -1e+04\n",
              "C(children)[T.1]         386.7277    421.449      0.918      0.359    -440.052    1213.508\n",
              "C(children)[T.2]        1633.0853    466.816      3.498      0.000     717.306    2548.865\n",
              "C(children)[T.3]         960.9845    548.203      1.753      0.080    -114.456    2036.425\n",
              "C(children)[T.4]        2936.4380   1239.059      2.370      0.018     505.706    5367.170\n",
              "C(children)[T.5]        1104.7042   1455.890      0.759      0.448   -1751.397    3960.805\n",
              "C(smoker)[T.yes]        2.382e+04    412.980     57.686      0.000     2.3e+04    2.46e+04\n",
              "C(region)[T.northwest]  -375.7093    476.956     -0.788      0.431   -1311.381     559.962\n",
              "C(region)[T.southeast] -1032.6450    479.157     -2.155      0.031   -1972.633     -92.657\n",
              "C(region)[T.southwest]  -952.2078    478.170     -1.991      0.047   -1890.260     -14.156\n",
              "age                      257.2131     11.921     21.577      0.000     233.828     280.598\n",
              "bmi                      336.4528     28.583     11.771      0.000     280.379     392.526\n",
              "==============================================================================\n",
              "Omnibus:                      293.819   Durbin-Watson:                   2.086\n",
              "Prob(Omnibus):                  0.000   Jarque-Bera (JB):              695.137\n",
              "Skew:                           1.191   Prob(JB):                    1.13e-151\n",
              "Kurtosis:                       5.608   Cond. No.                         453.\n",
              "==============================================================================\n",
              "\n",
              "Notes:\n",
              "[1] Standard Errors assume that the covariance matrix of the errors is correctly specified.\n",
              "\"\"\""
            ]
          },
          "execution_count": 29,
          "metadata": {},
          "output_type": "execute_result"
        }
      ],
      "source": [
        "import statsmodels.formula.api as smf\n",
        "model = smf.ols('charges ~ C(children) + C(smoker) + age + bmi + C(region)', data=df).fit() # multiple regression model\n",
        "model.summary() # display the summary statistics of the regression model\n"
      ]
    },
    {
      "cell_type": "markdown",
      "metadata": {},
      "source": [
        "# Regression Model testing (model 1 and Model 2)\n",
        "These are simpler models with fewer predictors than the previous regression test and are usually done first. In the next cells these have been run as follows:\n",
        "- Model 1: charges ~ C(smoker) + age\n",
        "- Model 2: charges ~ C(smoker) + bmi\n",
        "\n",
        "These were included as they are useful comparisons (for example does age or BMI explain more variation alongside smoking?). We did see Smoking+Age R² ≈ 0.72 vs. Smoking+BMI R² ≈ 0.66 that age was stronger.\n",
        "\n",
        "Neverthless this was kept as it can be useful to explore diffrent models and retain ones that are better help for model selection (sometimes you keep only the predictors that add most value).\n",
        "\n",
        "**Tests undertaken**\n",
        "In the below model 1 includes smoking status and age.\n",
        "- This tests: How well do charges relate to age and smoking only?\n",
        "\n",
        "Model 2 includes smoking status and BMI.\n",
        "- This tests: How well do charges relate to BMI and smoking only?\n",
        "\n",
        "By comparing the R² values, you can see:\n",
        "\n",
        "Which pairing explains more variance in charges, whether age or BMI contributes more alongside smoking.\n",
        "\n",
        "Interpretation pattern. If Smoking + Age R² is greater than Smoking + BMI R²: then Age explains more variation (in combination with smoking). However, if Smoking + BMI R² > Smoking + Age R²: then BMI explains more variation (in combination with smoking).\n",
        "\n",
        "The results indicate both models show that smoking is by far the most dominant factor, since on oits own it already explains the bulk of the variation in pricing. When adding an extra predictor, age increases explained variance tp ~72% while adding BMI increases it to ~66%."
      ]
    },
    {
      "cell_type": "code",
      "execution_count": null,
      "metadata": {},
      "outputs": [
        {
          "name": "stdout",
          "output_type": "stream",
          "text": [
            "Smoking + Age R²: 0.7212155984066755\n",
            "Smoking + BMI R²: 0.6579398445674454\n"
          ]
        }
      ],
      "source": [
        "import statsmodels.formula.api as smf\n",
        "\n",
        "# Model 1: Smoking + Age\n",
        "model1 = smf.ols(\"charges ~ C(smoker) + age\", data=df).fit()\n",
        "\n",
        "# Model 2: Smoking + BMI\n",
        "model2 = smf.ols(\"charges ~ C(smoker) + bmi\", data=df).fit()\n",
        "\n",
        "print(\"Smoking + Age R²:\", model1.rsquared)\n",
        "print(\"Smoking + BMI R²:\", model2.rsquared)"
      ]
    },
    {
      "cell_type": "markdown",
      "metadata": {},
      "source": [
        "# Regression Model testing\n",
        "n the analysis below, two reduced models are compared:\n",
        "\n",
        "- **Model 1:** Smoking status + Age  \n",
        "  Tests how well charges relate to smoking and age only.\n",
        "\n",
        "- **Model 2:** Smoking status + BMI  \n",
        "  Tests how well charges relate to smoking and BMI only.\n",
        "\n",
        "By comparing the R² values, we can see which pairing explains more variance in charges, i.e. whether age or BMI contributes more alongside smoking.\n",
        "\n",
        "**Interpretation pattern:**  \n",
        "- If Smoking + Age R² > Smoking + BMI R² → Age explains more variation in combination with smoking.  \n",
        "- If Smoking + BMI R² > Smoking + Age R² → BMI explains more variation in combination with smoking.  \n",
        "\n",
        "**Results:**  \n",
        "Both models confirm that smoking is by far the dominant factor, since on its own it already explains the bulk of the variation in charges. When adding an extra predictor:  \n",
        "- Age increases the explained variance to ~72%  \n",
        "- BMI increases the explained variance to ~66%  \n",
        "\n",
        "This shows that age contributes more predictive power alongside smoking than BMI."
      ]
    },
    {
      "cell_type": "code",
      "execution_count": null,
      "metadata": {},
      "outputs": [
        {
          "name": "stdout",
          "output_type": "stream",
          "text": [
            "Smoking + Age R²: 0.7212155984066755\n",
            "Smoking + BMI R²: 0.6579398445674454\n"
          ]
        }
      ],
      "source": [
        "import statsmodels.formula.api as smf\n",
        "\n",
        "# Model 1: Smoking + Age\n",
        "model1 = smf.ols(\"charges ~ C(smoker) + age\", data=df).fit()\n",
        "\n",
        "# Model 2: Smoking + BMI\n",
        "model2 = smf.ols(\"charges ~ C(smoker) + bmi\", data=df).fit()\n",
        "\n",
        "print(\"Smoking + Age R²:\", model1.rsquared)\n",
        "print(\"Smoking + BMI R²:\", model2.rsquared)"
      ]
    },
    {
      "cell_type": "code",
      "execution_count": null,
      "metadata": {},
      "outputs": [
        {
          "name": "stdout",
          "output_type": "stream",
          "text": [
            "                            OLS Regression Results                            \n",
            "==============================================================================\n",
            "Dep. Variable:                charges   R-squared:                       0.747\n",
            "Model:                            OLS   Adj. R-squared:                  0.746\n",
            "Method:                 Least Squares   F-statistic:                     436.2\n",
            "Date:                Wed, 10 Sep 2025   Prob (F-statistic):               0.00\n",
            "Time:                        10:11:10   Log-Likelihood:                -13547.\n",
            "No. Observations:                1337   AIC:                         2.711e+04\n",
            "Df Residuals:                    1327   BIC:                         2.717e+04\n",
            "Df Model:                           9                                         \n",
            "Covariance Type:            nonrobust                                         \n",
            "==================================================================================================\n",
            "                                     coef    std err          t      P>|t|      [0.025      0.975]\n",
            "--------------------------------------------------------------------------------------------------\n",
            "Intercept                       4205.3147    334.387     12.576      0.000    3549.329    4861.300\n",
            "C(smoker)[T.yes]                 2.39e+04    414.645     57.638      0.000    2.31e+04    2.47e+04\n",
            "C(age_band)[T.18-25]           -2657.5228    310.364     -8.563      0.000   -3266.381   -2048.665\n",
            "C(age_band)[T.26-34]           -1242.4337    339.420     -3.660      0.000   -1908.291    -576.576\n",
            "C(age_band)[T.35-49]            1657.4569    284.702      5.822      0.000    1098.943    2215.971\n",
            "C(age_band)[T.50-69]            6447.8143    293.853     21.942      0.000    5871.347    7024.281\n",
            "C(age_band)[T.70-79]           -8.947e-13   1.32e-13     -6.791      0.000   -1.15e-12   -6.36e-13\n",
            "C(age_band)[T.80+]              1.077e-12   2.54e-13      4.233      0.000    5.78e-13    1.58e-12\n",
            "C(bmi_category)[T.Obesity I]    4069.8709    512.805      7.936      0.000    3063.875    5075.867\n",
            "C(bmi_category)[T.Obesity II]   5382.8965    578.898      9.299      0.000    4247.241    6518.552\n",
            "C(bmi_category)[T.Obesity III]  5158.8600    760.339      6.785      0.000    3667.262    6650.458\n",
            "C(bmi_category)[T.Overweight]    803.0278    513.302      1.564      0.118    -203.945    1810.001\n",
            "C(bmi_category)[T.Underweight] -1708.2937   1425.780     -1.198      0.231   -4505.322    1088.735\n",
            "==============================================================================\n",
            "Omnibus:                      306.038   Durbin-Watson:                   2.073\n",
            "Prob(Omnibus):                  0.000   Jarque-Bera (JB):              738.348\n",
            "Skew:                           1.231   Prob(JB):                    4.67e-161\n",
            "Kurtosis:                       5.682   Cond. No.                     7.81e+16\n",
            "==============================================================================\n",
            "\n",
            "Notes:\n",
            "[1] Standard Errors assume that the covariance matrix of the errors is correctly specified.\n",
            "[2] The smallest eigenvalue is 3.33e-31. This might indicate that there are\n",
            "strong multicollinearity problems or that the design matrix is singular.\n",
            "R² with Smoking + Age bands + BMI bands: 0.7473595417643357\n"
          ]
        }
      ],
      "source": [
        "# Age Band smoking & BMI Test\n",
        "# I have already created 'age_band' and 'bmi_category' columns\n",
        "model_bands = smf.ols(\"charges ~ C(smoker) + C(age_band) + C(bmi_category)\", data=df).fit()\n",
        "\n",
        "print(model_bands.summary())\n",
        "print(\"R² with Smoking + Age bands + BMI bands:\", model_bands.rsquared)"
      ]
    },
    {
      "cell_type": "markdown",
      "metadata": {},
      "source": [
        "# Sex category and Regression Testing\n",
        "In the below we ran a regression model that looks at the effect of gender on insurance charges, while controlling for other key factors like age, smoking, BMI, number of children, and region.\n",
        "\n",
        "The regression test asked: After controlling for smoking, age, BMI, children, and region, do men and women differ in average charges? The result indicates there isn't a significant difference. Though the effect of being male is −£126 (tiny relative to charges), it is relatively small statistically (p = 0.704). Gender does not influence charges once other risk factors are controlled.\n"
      ]
    },
    {
      "cell_type": "code",
      "execution_count": null,
      "metadata": {},
      "outputs": [
        {
          "data": {
            "text/html": [
              "<table class=\"simpletable\">\n",
              "<caption>OLS Regression Results</caption>\n",
              "<tr>\n",
              "  <th>Dep. Variable:</th>         <td>charges</td>     <th>  R-squared:         </th> <td>   0.752</td> \n",
              "</tr>\n",
              "<tr>\n",
              "  <th>Model:</th>                   <td>OLS</td>       <th>  Adj. R-squared:    </th> <td>   0.750</td> \n",
              "</tr>\n",
              "<tr>\n",
              "  <th>Method:</th>             <td>Least Squares</td>  <th>  F-statistic:       </th> <td>   334.1</td> \n",
              "</tr>\n",
              "<tr>\n",
              "  <th>Date:</th>             <td>Wed, 10 Sep 2025</td> <th>  Prob (F-statistic):</th>  <td>  0.00</td>  \n",
              "</tr>\n",
              "<tr>\n",
              "  <th>Time:</th>                 <td>10:11:11</td>     <th>  Log-Likelihood:    </th> <td> -13535.</td> \n",
              "</tr>\n",
              "<tr>\n",
              "  <th>No. Observations:</th>      <td>  1337</td>      <th>  AIC:               </th> <td>2.710e+04</td>\n",
              "</tr>\n",
              "<tr>\n",
              "  <th>Df Residuals:</th>          <td>  1324</td>      <th>  BIC:               </th> <td>2.716e+04</td>\n",
              "</tr>\n",
              "<tr>\n",
              "  <th>Df Model:</th>              <td>    12</td>      <th>                     </th>     <td> </td>    \n",
              "</tr>\n",
              "<tr>\n",
              "  <th>Covariance Type:</th>      <td>nonrobust</td>    <th>                     </th>     <td> </td>    \n",
              "</tr>\n",
              "</table>\n",
              "<table class=\"simpletable\">\n",
              "<tr>\n",
              "             <td></td>               <th>coef</th>     <th>std err</th>      <th>t</th>      <th>P>|t|</th>  <th>[0.025</th>    <th>0.975]</th>  \n",
              "</tr>\n",
              "<tr>\n",
              "  <th>Intercept</th>              <td>-1.192e+04</td> <td>  994.091</td> <td>  -11.996</td> <td> 0.000</td> <td>-1.39e+04</td> <td>-9974.806</td>\n",
              "</tr>\n",
              "<tr>\n",
              "  <th>C(sex)[T.male]</th>         <td> -126.4424</td> <td>  333.085</td> <td>   -0.380</td> <td> 0.704</td> <td> -779.875</td> <td>  526.990</td>\n",
              "</tr>\n",
              "<tr>\n",
              "  <th>C(smoker)[T.yes]</th>       <td> 2.384e+04</td> <td>  414.334</td> <td>   57.527</td> <td> 0.000</td> <td>  2.3e+04</td> <td> 2.46e+04</td>\n",
              "</tr>\n",
              "<tr>\n",
              "  <th>C(children)[T.1]</th>       <td>  389.0683</td> <td>  421.630</td> <td>    0.923</td> <td> 0.356</td> <td> -438.068</td> <td> 1216.205</td>\n",
              "</tr>\n",
              "<tr>\n",
              "  <th>C(children)[T.2]</th>       <td> 1633.7392</td> <td>  466.970</td> <td>    3.499</td> <td> 0.000</td> <td>  717.657</td> <td> 2549.822</td>\n",
              "</tr>\n",
              "<tr>\n",
              "  <th>C(children)[T.3]</th>       <td>  962.4373</td> <td>  548.394</td> <td>    1.755</td> <td> 0.079</td> <td> -113.378</td> <td> 2038.253</td>\n",
              "</tr>\n",
              "<tr>\n",
              "  <th>C(children)[T.4]</th>       <td> 2945.1623</td> <td> 1239.673</td> <td>    2.376</td> <td> 0.018</td> <td>  513.225</td> <td> 5377.099</td>\n",
              "</tr>\n",
              "<tr>\n",
              "  <th>C(children)[T.5]</th>       <td> 1114.2598</td> <td> 1456.578</td> <td>    0.765</td> <td> 0.444</td> <td>-1743.193</td> <td> 3971.712</td>\n",
              "</tr>\n",
              "<tr>\n",
              "  <th>C(region)[T.northwest]</th> <td> -376.5112</td> <td>  477.115</td> <td>   -0.789</td> <td> 0.430</td> <td>-1312.495</td> <td>  559.472</td>\n",
              "</tr>\n",
              "<tr>\n",
              "  <th>C(region)[T.southeast]</th> <td>-1033.3274</td> <td>  479.315</td> <td>   -2.156</td> <td> 0.031</td> <td>-1973.627</td> <td>  -93.028</td>\n",
              "</tr>\n",
              "<tr>\n",
              "  <th>C(region)[T.southwest]</th> <td> -952.9217</td> <td>  478.328</td> <td>   -1.992</td> <td> 0.047</td> <td>-1891.285</td> <td>  -14.558</td>\n",
              "</tr>\n",
              "<tr>\n",
              "  <th>age</th>                    <td>  257.1083</td> <td>   11.928</td> <td>   21.556</td> <td> 0.000</td> <td>  233.709</td> <td>  280.507</td>\n",
              "</tr>\n",
              "<tr>\n",
              "  <th>bmi</th>                    <td>  336.9626</td> <td>   28.624</td> <td>   11.772</td> <td> 0.000</td> <td>  280.809</td> <td>  393.116</td>\n",
              "</tr>\n",
              "</table>\n",
              "<table class=\"simpletable\">\n",
              "<tr>\n",
              "  <th>Omnibus:</th>       <td>293.461</td> <th>  Durbin-Watson:     </th> <td>   2.085</td> \n",
              "</tr>\n",
              "<tr>\n",
              "  <th>Prob(Omnibus):</th> <td> 0.000</td>  <th>  Jarque-Bera (JB):  </th> <td> 693.568</td> \n",
              "</tr>\n",
              "<tr>\n",
              "  <th>Skew:</th>          <td> 1.190</td>  <th>  Prob(JB):          </th> <td>2.48e-151</td>\n",
              "</tr>\n",
              "<tr>\n",
              "  <th>Kurtosis:</th>      <td> 5.604</td>  <th>  Cond. No.          </th> <td>    453.</td> \n",
              "</tr>\n",
              "</table><br/><br/>Notes:<br/>[1] Standard Errors assume that the covariance matrix of the errors is correctly specified."
            ],
            "text/latex": [
              "\\begin{center}\n",
              "\\begin{tabular}{lclc}\n",
              "\\toprule\n",
              "\\textbf{Dep. Variable:}         &     charges      & \\textbf{  R-squared:         } &     0.752   \\\\\n",
              "\\textbf{Model:}                 &       OLS        & \\textbf{  Adj. R-squared:    } &     0.750   \\\\\n",
              "\\textbf{Method:}                &  Least Squares   & \\textbf{  F-statistic:       } &     334.1   \\\\\n",
              "\\textbf{Date:}                  & Wed, 10 Sep 2025 & \\textbf{  Prob (F-statistic):} &     0.00    \\\\\n",
              "\\textbf{Time:}                  &     10:11:11     & \\textbf{  Log-Likelihood:    } &   -13535.   \\\\\n",
              "\\textbf{No. Observations:}      &        1337      & \\textbf{  AIC:               } & 2.710e+04   \\\\\n",
              "\\textbf{Df Residuals:}          &        1324      & \\textbf{  BIC:               } & 2.716e+04   \\\\\n",
              "\\textbf{Df Model:}              &          12      & \\textbf{                     } &             \\\\\n",
              "\\textbf{Covariance Type:}       &    nonrobust     & \\textbf{                     } &             \\\\\n",
              "\\bottomrule\n",
              "\\end{tabular}\n",
              "\\begin{tabular}{lcccccc}\n",
              "                                & \\textbf{coef} & \\textbf{std err} & \\textbf{t} & \\textbf{P$> |$t$|$} & \\textbf{[0.025} & \\textbf{0.975]}  \\\\\n",
              "\\midrule\n",
              "\\textbf{Intercept}              &   -1.192e+04  &      994.091     &   -11.996  &         0.000        &    -1.39e+04    &    -9974.806     \\\\\n",
              "\\textbf{C(sex)[T.male]}         &    -126.4424  &      333.085     &    -0.380  &         0.704        &     -779.875    &      526.990     \\\\\n",
              "\\textbf{C(smoker)[T.yes]}       &    2.384e+04  &      414.334     &    57.527  &         0.000        &      2.3e+04    &     2.46e+04     \\\\\n",
              "\\textbf{C(children)[T.1]}       &     389.0683  &      421.630     &     0.923  &         0.356        &     -438.068    &     1216.205     \\\\\n",
              "\\textbf{C(children)[T.2]}       &    1633.7392  &      466.970     &     3.499  &         0.000        &      717.657    &     2549.822     \\\\\n",
              "\\textbf{C(children)[T.3]}       &     962.4373  &      548.394     &     1.755  &         0.079        &     -113.378    &     2038.253     \\\\\n",
              "\\textbf{C(children)[T.4]}       &    2945.1623  &     1239.673     &     2.376  &         0.018        &      513.225    &     5377.099     \\\\\n",
              "\\textbf{C(children)[T.5]}       &    1114.2598  &     1456.578     &     0.765  &         0.444        &    -1743.193    &     3971.712     \\\\\n",
              "\\textbf{C(region)[T.northwest]} &    -376.5112  &      477.115     &    -0.789  &         0.430        &    -1312.495    &      559.472     \\\\\n",
              "\\textbf{C(region)[T.southeast]} &   -1033.3274  &      479.315     &    -2.156  &         0.031        &    -1973.627    &      -93.028     \\\\\n",
              "\\textbf{C(region)[T.southwest]} &    -952.9217  &      478.328     &    -1.992  &         0.047        &    -1891.285    &      -14.558     \\\\\n",
              "\\textbf{age}                    &     257.1083  &       11.928     &    21.556  &         0.000        &      233.709    &      280.507     \\\\\n",
              "\\textbf{bmi}                    &     336.9626  &       28.624     &    11.772  &         0.000        &      280.809    &      393.116     \\\\\n",
              "\\bottomrule\n",
              "\\end{tabular}\n",
              "\\begin{tabular}{lclc}\n",
              "\\textbf{Omnibus:}       & 293.461 & \\textbf{  Durbin-Watson:     } &     2.085  \\\\\n",
              "\\textbf{Prob(Omnibus):} &   0.000 & \\textbf{  Jarque-Bera (JB):  } &   693.568  \\\\\n",
              "\\textbf{Skew:}          &   1.190 & \\textbf{  Prob(JB):          } & 2.48e-151  \\\\\n",
              "\\textbf{Kurtosis:}      &   5.604 & \\textbf{  Cond. No.          } &      453.  \\\\\n",
              "\\bottomrule\n",
              "\\end{tabular}\n",
              "%\\caption{OLS Regression Results}\n",
              "\\end{center}\n",
              "\n",
              "Notes: \\newline\n",
              " [1] Standard Errors assume that the covariance matrix of the errors is correctly specified."
            ],
            "text/plain": [
              "<class 'statsmodels.iolib.summary.Summary'>\n",
              "\"\"\"\n",
              "                            OLS Regression Results                            \n",
              "==============================================================================\n",
              "Dep. Variable:                charges   R-squared:                       0.752\n",
              "Model:                            OLS   Adj. R-squared:                  0.750\n",
              "Method:                 Least Squares   F-statistic:                     334.1\n",
              "Date:                Wed, 10 Sep 2025   Prob (F-statistic):               0.00\n",
              "Time:                        10:11:11   Log-Likelihood:                -13535.\n",
              "No. Observations:                1337   AIC:                         2.710e+04\n",
              "Df Residuals:                    1324   BIC:                         2.716e+04\n",
              "Df Model:                          12                                         \n",
              "Covariance Type:            nonrobust                                         \n",
              "==========================================================================================\n",
              "                             coef    std err          t      P>|t|      [0.025      0.975]\n",
              "------------------------------------------------------------------------------------------\n",
              "Intercept              -1.192e+04    994.091    -11.996      0.000   -1.39e+04   -9974.806\n",
              "C(sex)[T.male]          -126.4424    333.085     -0.380      0.704    -779.875     526.990\n",
              "C(smoker)[T.yes]        2.384e+04    414.334     57.527      0.000     2.3e+04    2.46e+04\n",
              "C(children)[T.1]         389.0683    421.630      0.923      0.356    -438.068    1216.205\n",
              "C(children)[T.2]        1633.7392    466.970      3.499      0.000     717.657    2549.822\n",
              "C(children)[T.3]         962.4373    548.394      1.755      0.079    -113.378    2038.253\n",
              "C(children)[T.4]        2945.1623   1239.673      2.376      0.018     513.225    5377.099\n",
              "C(children)[T.5]        1114.2598   1456.578      0.765      0.444   -1743.193    3971.712\n",
              "C(region)[T.northwest]  -376.5112    477.115     -0.789      0.430   -1312.495     559.472\n",
              "C(region)[T.southeast] -1033.3274    479.315     -2.156      0.031   -1973.627     -93.028\n",
              "C(region)[T.southwest]  -952.9217    478.328     -1.992      0.047   -1891.285     -14.558\n",
              "age                      257.1083     11.928     21.556      0.000     233.709     280.507\n",
              "bmi                      336.9626     28.624     11.772      0.000     280.809     393.116\n",
              "==============================================================================\n",
              "Omnibus:                      293.461   Durbin-Watson:                   2.085\n",
              "Prob(Omnibus):                  0.000   Jarque-Bera (JB):              693.568\n",
              "Skew:                           1.190   Prob(JB):                    2.48e-151\n",
              "Kurtosis:                       5.604   Cond. No.                         453.\n",
              "==============================================================================\n",
              "\n",
              "Notes:\n",
              "[1] Standard Errors assume that the covariance matrix of the errors is correctly specified.\n",
              "\"\"\""
            ]
          },
          "execution_count": 33,
          "metadata": {},
          "output_type": "execute_result"
        }
      ],
      "source": [
        "model = smf.ols('charges ~ C(sex) + C(smoker) + age + bmi + C(children) + C(region)', data=df).fit()  # multiple regression model to isolate the impact of sex category \n",
        "model.summary()\n"
      ]
    },
    {
      "cell_type": "markdown",
      "metadata": {},
      "source": [
        "# Smoking differences between regions do we have a region with more smokers?\n",
        "\n",
        "I look at that below and found there isn’t strong statistical evidence that some regions “have more smokers.” Which means regional charge differences are unlikely to be explained by smoking distribution alone."
      ]
    },
    {
      "cell_type": "code",
      "execution_count": null,
      "metadata": {},
      "outputs": [
        {
          "name": "stdout",
          "output_type": "stream",
          "text": [
            "smoker      no  yes\n",
            "region             \n",
            "northeast  257   67\n",
            "northwest  266   58\n",
            "southeast  273   91\n",
            "southwest  267   58\n",
            "Chi-square: 7.27790254132191 p-value: 0.06354826573182334\n"
          ]
        }
      ],
      "source": [
        "from scipy.stats import chi2_contingency\n",
        "\n",
        "# Contingency table\n",
        "table = pd.crosstab(df['region'], df['smoker'])\n",
        "chi2, p, dof, expected = chi2_contingency(table)\n",
        "\n",
        "print(table)\n",
        "print(\"Chi-square:\", chi2, \"p-value:\", p)"
      ]
    },
    {
      "cell_type": "markdown",
      "metadata": {},
      "source": [
        "In the below we identify outlier (highest charge cases) in IQR Rule for high outliers (upper outliers) and create a tag so they can be filtered in Power BI."
      ]
    },
    {
      "cell_type": "code",
      "execution_count": null,
      "metadata": {},
      "outputs": [],
      "source": [
        "# Example: charges column in insurance dataset\n",
        "Q1 = df['charges'].quantile(0.25)\n",
        "Q3 = df['charges'].quantile(0.75)\n",
        "IQR = Q3 - Q1\n",
        "\n",
        "lower_bound = Q1 - 1.5 * IQR\n",
        "upper_bound = Q3 + 1.5 * IQR\n",
        "\n",
        "# filter outliers (High charges only)\n",
        "outliers = df[(df['charges'] > upper_bound)]\n",
        "\n",
        "# I then created a new column to tag the records so they can be filtered out in Power BI a g later\n",
        "\n",
        "def high_cost_case(x):\n",
        "    if x >= 40000:   # threshold you chose\n",
        "        return \"High Cost\"\n",
        "    else:\n",
        "        return \"Normal\"\n",
        "\n",
        "df['cost_group'] = df['charges'].apply(high_cost_case)"
      ]
    },
    {
      "cell_type": "markdown",
      "metadata": {},
      "source": [
        "We look at BMI and region below to see if there are any regional differences that are significant. Our hypotheses was that there would be no regional differences."
      ]
    },
    {
      "cell_type": "code",
      "execution_count": null,
      "metadata": {},
      "outputs": [
        {
          "data": {
            "text/html": [
              "<div>\n",
              "<style scoped>\n",
              "    .dataframe tbody tr th:only-of-type {\n",
              "        vertical-align: middle;\n",
              "    }\n",
              "\n",
              "    .dataframe tbody tr th {\n",
              "        vertical-align: top;\n",
              "    }\n",
              "\n",
              "    .dataframe thead th {\n",
              "        text-align: right;\n",
              "    }\n",
              "</style>\n",
              "<table border=\"1\" class=\"dataframe\">\n",
              "  <thead>\n",
              "    <tr style=\"text-align: right;\">\n",
              "      <th>bmi_category</th>\n",
              "      <th>Normal weight</th>\n",
              "      <th>Obesity I</th>\n",
              "      <th>Obesity II</th>\n",
              "      <th>Obesity III</th>\n",
              "      <th>Overweight</th>\n",
              "      <th>Underweight</th>\n",
              "    </tr>\n",
              "    <tr>\n",
              "      <th>region</th>\n",
              "      <th></th>\n",
              "      <th></th>\n",
              "      <th></th>\n",
              "      <th></th>\n",
              "      <th></th>\n",
              "      <th></th>\n",
              "    </tr>\n",
              "  </thead>\n",
              "  <tbody>\n",
              "    <tr>\n",
              "      <th>northeast</th>\n",
              "      <td>73</td>\n",
              "      <td>90</td>\n",
              "      <td>38</td>\n",
              "      <td>15</td>\n",
              "      <td>98</td>\n",
              "      <td>10</td>\n",
              "    </tr>\n",
              "    <tr>\n",
              "      <th>northwest</th>\n",
              "      <td>63</td>\n",
              "      <td>104</td>\n",
              "      <td>35</td>\n",
              "      <td>8</td>\n",
              "      <td>107</td>\n",
              "      <td>7</td>\n",
              "    </tr>\n",
              "    <tr>\n",
              "      <th>southeast</th>\n",
              "      <td>41</td>\n",
              "      <td>94</td>\n",
              "      <td>94</td>\n",
              "      <td>55</td>\n",
              "      <td>80</td>\n",
              "      <td>0</td>\n",
              "    </tr>\n",
              "    <tr>\n",
              "      <th>southwest</th>\n",
              "      <td>48</td>\n",
              "      <td>102</td>\n",
              "      <td>58</td>\n",
              "      <td>13</td>\n",
              "      <td>101</td>\n",
              "      <td>3</td>\n",
              "    </tr>\n",
              "  </tbody>\n",
              "</table>\n",
              "</div>"
            ],
            "text/plain": [
              "bmi_category  Normal weight  Obesity I  Obesity II  Obesity III  Overweight  \\\n",
              "region                                                                        \n",
              "northeast                73         90          38           15          98   \n",
              "northwest                63        104          35            8         107   \n",
              "southeast                41         94          94           55          80   \n",
              "southwest                48        102          58           13         101   \n",
              "\n",
              "bmi_category  Underweight  \n",
              "region                     \n",
              "northeast              10  \n",
              "northwest               7  \n",
              "southeast               0  \n",
              "southwest               3  "
            ]
          },
          "execution_count": 36,
          "metadata": {},
          "output_type": "execute_result"
        }
      ],
      "source": [
        "pd.crosstab(df['region'], df['bmi_category']) # check distribution of bmi categories across regions"
      ]
    },
    {
      "cell_type": "markdown",
      "metadata": {},
      "source": [
        "In the above we could see there was a regional difference in the Southeast in category Obesity III. We did further tests to see if this was a significant difference below. The distribution of BMI categories differs significantly across regions. Some regions  do have a different BMI risk mix. Looking at our crosstab, the Southeast had a much higher Class 3 Obesity count (55 people vs 8–15 elsewhere). T In our Chi-square test of BMI by region, we found a significant association: the Southeast had a much higher proportion of Class III Obesity cases (55 individuals compared with 8–15 in other regions). This explains why the Chi-square test was significant — some regions clearly have a different BMI risk mix. \n",
        "\n",
        "However, in the regression model (which controls for BMI, age, smoking, and other factors), the Southeast actually shows significantly lower average charges than the Northeast. This suggests that while the Southeast has more severe obesity cases, once other risk factors are accounted for, regional differences in charges may be influenced by additional factors such as healthcare costs or other unobserved variables."
      ]
    },
    {
      "cell_type": "code",
      "execution_count": null,
      "metadata": {},
      "outputs": [
        {
          "name": "stdout",
          "output_type": "stream",
          "text": [
            "Chi-square: 121.03424160390387 p-value: 1.1919067217094255e-18\n"
          ]
        }
      ],
      "source": [
        "chi2, p, dof, expected = chi2_contingency(pd.crosstab(df['region'], df['bmi_category'])) # Chi-square test for BMI category across regions\n",
        "print(\"Chi-square:\", chi2, \"p-value:\", p) # check p-value"
      ]
    },
    {
      "cell_type": "code",
      "execution_count": null,
      "metadata": {},
      "outputs": [],
      "source": [
        "df.to_csv('data/processed/insurance_cleaned.csv', index=False) # export cleaned dataframe to csv"
      ]
    },
    {
      "cell_type": "markdown",
      "metadata": {},
      "source": [
        "---"
      ]
    },
    {
      "cell_type": "markdown",
      "metadata": {},
      "source": [
        "NOTE"
      ]
    },
    {
      "cell_type": "markdown",
      "metadata": {},
      "source": [
        "* You may add as many sections as you want, as long as it supports your project workflow.\n",
        "* All notebook's cells should be run top-down (you can't create a dynamic wherein a given point you need to go back to a previous cell to execute some task, like go back to a previous cell and refresh a variable content)"
      ]
    },
    {
      "cell_type": "markdown",
      "metadata": {},
      "source": []
    },
    {
      "cell_type": "markdown",
      "metadata": {
        "id": "ltNetd085qHf"
      },
      "source": [
        "# Push files to Repo"
      ]
    },
    {
      "cell_type": "markdown",
      "metadata": {},
      "source": [
        "---"
      ]
    }
  ],
  "metadata": {
    "accelerator": "GPU",
    "colab": {
      "name": "Data Practitioner Jupyter Notebook.ipynb",
      "provenance": [],
      "toc_visible": true
    },
    "kernelspec": {
      "display_name": ".venv (3.12.8)",
      "language": "python",
      "name": "python3"
    },
    "language_info": {
      "codemirror_mode": {
        "name": "ipython",
        "version": 3
      },
      "file_extension": ".py",
      "mimetype": "text/x-python",
      "name": "python",
      "nbconvert_exporter": "python",
      "pygments_lexer": "ipython3",
      "version": "3.12.8"
    },
    "orig_nbformat": 2
  },
  "nbformat": 4,
  "nbformat_minor": 2
}
