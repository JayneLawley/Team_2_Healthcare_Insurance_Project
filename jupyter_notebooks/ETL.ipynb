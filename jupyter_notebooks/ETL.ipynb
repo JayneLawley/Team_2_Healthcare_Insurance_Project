{
  "cells": [
    {
      "cell_type": "markdown",
      "metadata": {
        "id": "0aStgWSO0E0E"
      },
      "source": [
        "# **(ADD THE NOTEBOOK NAME HERE)**"
      ]
    },
    {
      "cell_type": "markdown",
      "metadata": {
        "id": "1eLEkw5O0ECa"
      },
      "source": [
        "## Objectives\n",
        "\n",
        "* Write your notebook objective here, for example, \"Fetch data from Kaggle and save as raw data\", or \"engineer features for modelling\"\n",
        "\n",
        "## Inputs\n",
        "\n",
        "* Write down which data or information you need to run the notebook \n",
        "\n",
        "## Outputs\n",
        "\n",
        "* Write here which files, code or artefacts you generate by the end of the notebook \n",
        "\n",
        "## Additional Comments\n",
        "\n",
        "* If you have any additional comments that don't fit in the previous bullets, please state them here. \n",
        "\n"
      ]
    },
    {
      "cell_type": "markdown",
      "metadata": {
        "id": "9uWZXH9LwoQg"
      },
      "source": [
        "---"
      ]
    },
    {
      "cell_type": "markdown",
      "metadata": {
        "id": "cqP-UeN-z3i2"
      },
      "source": [
        "# Change working directory"
      ]
    },
    {
      "cell_type": "markdown",
      "metadata": {},
      "source": [
        "* We are assuming you will store the notebooks in a subfolder, therefore when running the notebook in the editor, you will need to change the working directory"
      ]
    },
    {
      "cell_type": "markdown",
      "metadata": {
        "id": "aOGIGS-uz3i2"
      },
      "source": [
        "We need to change the working directory from its current folder to its parent folder\n",
        "* We access the current directory with os.getcwd()"
      ]
    },
    {
      "cell_type": "code",
      "execution_count": 54,
      "metadata": {
        "id": "wZfF_j-Bz3i4",
        "outputId": "66943449-1436-4c3d-85c7-b85f9f78349b"
      },
      "outputs": [
        {
          "data": {
            "text/plain": [
              "'c:\\\\DA Dev'"
            ]
          },
          "execution_count": 54,
          "metadata": {},
          "output_type": "execute_result"
        }
      ],
      "source": [
        "import os\n",
        "current_dir = os.getcwd()\n",
        "current_dir"
      ]
    },
    {
      "cell_type": "markdown",
      "metadata": {
        "id": "9MWW8E7lz3i7"
      },
      "source": [
        "We want to make the parent of the current directory the new current directory\n",
        "* os.path.dirname() gets the parent directory\n",
        "* os.chir() defines the new current directory"
      ]
    },
    {
      "cell_type": "code",
      "execution_count": 55,
      "metadata": {
        "id": "TwHsQRWjz3i9",
        "outputId": "86849db3-cd2f-4cc5-ebb8-2d0caafa1a2c"
      },
      "outputs": [
        {
          "name": "stdout",
          "output_type": "stream",
          "text": [
            "You set a new current directory\n"
          ]
        }
      ],
      "source": [
        "os.chdir(os.path.dirname(current_dir))\n",
        "print(\"You set a new current directory\")"
      ]
    },
    {
      "cell_type": "markdown",
      "metadata": {
        "id": "M_xPk_Ijz3i-"
      },
      "source": [
        "Confirm the new current directory"
      ]
    },
    {
      "cell_type": "code",
      "execution_count": 56,
      "metadata": {
        "id": "vz3S-_kjz3jA",
        "outputId": "00b79ae4-75d0-4a96-d193-ac9ef9847ea2"
      },
      "outputs": [
        {
          "data": {
            "text/plain": [
              "'c:\\\\'"
            ]
          },
          "execution_count": 56,
          "metadata": {},
          "output_type": "execute_result"
        }
      ],
      "source": [
        "current_dir = os.getcwd()\n",
        "current_dir"
      ]
    },
    {
      "cell_type": "code",
      "execution_count": 57,
      "metadata": {},
      "outputs": [
        {
          "ename": "FileNotFoundError",
          "evalue": "[Errno 2] No such file or directory: 'data/raw/insurance.csv'",
          "output_type": "error",
          "traceback": [
            "\u001b[31m---------------------------------------------------------------------------\u001b[39m",
            "\u001b[31mFileNotFoundError\u001b[39m                         Traceback (most recent call last)",
            "\u001b[36mCell\u001b[39m\u001b[36m \u001b[39m\u001b[32mIn[57]\u001b[39m\u001b[32m, line 4\u001b[39m\n\u001b[32m      1\u001b[39m \u001b[38;5;28;01mfrom\u001b[39;00m\u001b[38;5;250m \u001b[39m\u001b[34;01mpathlib\u001b[39;00m\u001b[38;5;250m \u001b[39m\u001b[38;5;28;01mimport\u001b[39;00m Path \u001b[38;5;66;03m# load the pathlib library\u001b[39;00m\n\u001b[32m      3\u001b[39m \u001b[38;5;28;01mimport\u001b[39;00m\u001b[38;5;250m \u001b[39m\u001b[34;01mpandas\u001b[39;00m\u001b[38;5;250m \u001b[39m\u001b[38;5;28;01mas\u001b[39;00m\u001b[38;5;250m \u001b[39m\u001b[34;01mpd\u001b[39;00m \u001b[38;5;66;03m# load the pandas library\u001b[39;00m\n\u001b[32m----> \u001b[39m\u001b[32m4\u001b[39m df = \u001b[43mpd\u001b[49m\u001b[43m.\u001b[49m\u001b[43mread_csv\u001b[49m\u001b[43m(\u001b[49m\u001b[33;43m'\u001b[39;49m\u001b[33;43mdata/raw/insurance.csv\u001b[39;49m\u001b[33;43m'\u001b[39;49m\u001b[43m)\u001b[49m \u001b[38;5;66;03m# read the csv file into a dataframe\u001b[39;00m\n\u001b[32m      5\u001b[39m df.head() \u001b[38;5;66;03m# displays the first first few rows of dataframe\u001b[39;00m\n\u001b[32m      6\u001b[39m \u001b[38;5;28mprint\u001b[39m(df.shape)  \u001b[38;5;66;03m# look at shape of dataframe\u001b[39;00m\n",
            "\u001b[36mFile \u001b[39m\u001b[32mc:\\DA Dev\\Team_2_Healthcare_Insurance_Project\\.venv\\Lib\\site-packages\\pandas\\io\\parsers\\readers.py:948\u001b[39m, in \u001b[36mread_csv\u001b[39m\u001b[34m(filepath_or_buffer, sep, delimiter, header, names, index_col, usecols, dtype, engine, converters, true_values, false_values, skipinitialspace, skiprows, skipfooter, nrows, na_values, keep_default_na, na_filter, verbose, skip_blank_lines, parse_dates, infer_datetime_format, keep_date_col, date_parser, date_format, dayfirst, cache_dates, iterator, chunksize, compression, thousands, decimal, lineterminator, quotechar, quoting, doublequote, escapechar, comment, encoding, encoding_errors, dialect, on_bad_lines, delim_whitespace, low_memory, memory_map, float_precision, storage_options, dtype_backend)\u001b[39m\n\u001b[32m    935\u001b[39m kwds_defaults = _refine_defaults_read(\n\u001b[32m    936\u001b[39m     dialect,\n\u001b[32m    937\u001b[39m     delimiter,\n\u001b[32m   (...)\u001b[39m\u001b[32m    944\u001b[39m     dtype_backend=dtype_backend,\n\u001b[32m    945\u001b[39m )\n\u001b[32m    946\u001b[39m kwds.update(kwds_defaults)\n\u001b[32m--> \u001b[39m\u001b[32m948\u001b[39m \u001b[38;5;28;01mreturn\u001b[39;00m \u001b[43m_read\u001b[49m\u001b[43m(\u001b[49m\u001b[43mfilepath_or_buffer\u001b[49m\u001b[43m,\u001b[49m\u001b[43m \u001b[49m\u001b[43mkwds\u001b[49m\u001b[43m)\u001b[49m\n",
            "\u001b[36mFile \u001b[39m\u001b[32mc:\\DA Dev\\Team_2_Healthcare_Insurance_Project\\.venv\\Lib\\site-packages\\pandas\\io\\parsers\\readers.py:611\u001b[39m, in \u001b[36m_read\u001b[39m\u001b[34m(filepath_or_buffer, kwds)\u001b[39m\n\u001b[32m    608\u001b[39m _validate_names(kwds.get(\u001b[33m\"\u001b[39m\u001b[33mnames\u001b[39m\u001b[33m\"\u001b[39m, \u001b[38;5;28;01mNone\u001b[39;00m))\n\u001b[32m    610\u001b[39m \u001b[38;5;66;03m# Create the parser.\u001b[39;00m\n\u001b[32m--> \u001b[39m\u001b[32m611\u001b[39m parser = \u001b[43mTextFileReader\u001b[49m\u001b[43m(\u001b[49m\u001b[43mfilepath_or_buffer\u001b[49m\u001b[43m,\u001b[49m\u001b[43m \u001b[49m\u001b[43m*\u001b[49m\u001b[43m*\u001b[49m\u001b[43mkwds\u001b[49m\u001b[43m)\u001b[49m\n\u001b[32m    613\u001b[39m \u001b[38;5;28;01mif\u001b[39;00m chunksize \u001b[38;5;129;01mor\u001b[39;00m iterator:\n\u001b[32m    614\u001b[39m     \u001b[38;5;28;01mreturn\u001b[39;00m parser\n",
            "\u001b[36mFile \u001b[39m\u001b[32mc:\\DA Dev\\Team_2_Healthcare_Insurance_Project\\.venv\\Lib\\site-packages\\pandas\\io\\parsers\\readers.py:1448\u001b[39m, in \u001b[36mTextFileReader.__init__\u001b[39m\u001b[34m(self, f, engine, **kwds)\u001b[39m\n\u001b[32m   1445\u001b[39m     \u001b[38;5;28mself\u001b[39m.options[\u001b[33m\"\u001b[39m\u001b[33mhas_index_names\u001b[39m\u001b[33m\"\u001b[39m] = kwds[\u001b[33m\"\u001b[39m\u001b[33mhas_index_names\u001b[39m\u001b[33m\"\u001b[39m]\n\u001b[32m   1447\u001b[39m \u001b[38;5;28mself\u001b[39m.handles: IOHandles | \u001b[38;5;28;01mNone\u001b[39;00m = \u001b[38;5;28;01mNone\u001b[39;00m\n\u001b[32m-> \u001b[39m\u001b[32m1448\u001b[39m \u001b[38;5;28mself\u001b[39m._engine = \u001b[38;5;28;43mself\u001b[39;49m\u001b[43m.\u001b[49m\u001b[43m_make_engine\u001b[49m\u001b[43m(\u001b[49m\u001b[43mf\u001b[49m\u001b[43m,\u001b[49m\u001b[43m \u001b[49m\u001b[38;5;28;43mself\u001b[39;49m\u001b[43m.\u001b[49m\u001b[43mengine\u001b[49m\u001b[43m)\u001b[49m\n",
            "\u001b[36mFile \u001b[39m\u001b[32mc:\\DA Dev\\Team_2_Healthcare_Insurance_Project\\.venv\\Lib\\site-packages\\pandas\\io\\parsers\\readers.py:1705\u001b[39m, in \u001b[36mTextFileReader._make_engine\u001b[39m\u001b[34m(self, f, engine)\u001b[39m\n\u001b[32m   1703\u001b[39m     \u001b[38;5;28;01mif\u001b[39;00m \u001b[33m\"\u001b[39m\u001b[33mb\u001b[39m\u001b[33m\"\u001b[39m \u001b[38;5;129;01mnot\u001b[39;00m \u001b[38;5;129;01min\u001b[39;00m mode:\n\u001b[32m   1704\u001b[39m         mode += \u001b[33m\"\u001b[39m\u001b[33mb\u001b[39m\u001b[33m\"\u001b[39m\n\u001b[32m-> \u001b[39m\u001b[32m1705\u001b[39m \u001b[38;5;28mself\u001b[39m.handles = \u001b[43mget_handle\u001b[49m\u001b[43m(\u001b[49m\n\u001b[32m   1706\u001b[39m \u001b[43m    \u001b[49m\u001b[43mf\u001b[49m\u001b[43m,\u001b[49m\n\u001b[32m   1707\u001b[39m \u001b[43m    \u001b[49m\u001b[43mmode\u001b[49m\u001b[43m,\u001b[49m\n\u001b[32m   1708\u001b[39m \u001b[43m    \u001b[49m\u001b[43mencoding\u001b[49m\u001b[43m=\u001b[49m\u001b[38;5;28;43mself\u001b[39;49m\u001b[43m.\u001b[49m\u001b[43moptions\u001b[49m\u001b[43m.\u001b[49m\u001b[43mget\u001b[49m\u001b[43m(\u001b[49m\u001b[33;43m\"\u001b[39;49m\u001b[33;43mencoding\u001b[39;49m\u001b[33;43m\"\u001b[39;49m\u001b[43m,\u001b[49m\u001b[43m \u001b[49m\u001b[38;5;28;43;01mNone\u001b[39;49;00m\u001b[43m)\u001b[49m\u001b[43m,\u001b[49m\n\u001b[32m   1709\u001b[39m \u001b[43m    \u001b[49m\u001b[43mcompression\u001b[49m\u001b[43m=\u001b[49m\u001b[38;5;28;43mself\u001b[39;49m\u001b[43m.\u001b[49m\u001b[43moptions\u001b[49m\u001b[43m.\u001b[49m\u001b[43mget\u001b[49m\u001b[43m(\u001b[49m\u001b[33;43m\"\u001b[39;49m\u001b[33;43mcompression\u001b[39;49m\u001b[33;43m\"\u001b[39;49m\u001b[43m,\u001b[49m\u001b[43m \u001b[49m\u001b[38;5;28;43;01mNone\u001b[39;49;00m\u001b[43m)\u001b[49m\u001b[43m,\u001b[49m\n\u001b[32m   1710\u001b[39m \u001b[43m    \u001b[49m\u001b[43mmemory_map\u001b[49m\u001b[43m=\u001b[49m\u001b[38;5;28;43mself\u001b[39;49m\u001b[43m.\u001b[49m\u001b[43moptions\u001b[49m\u001b[43m.\u001b[49m\u001b[43mget\u001b[49m\u001b[43m(\u001b[49m\u001b[33;43m\"\u001b[39;49m\u001b[33;43mmemory_map\u001b[39;49m\u001b[33;43m\"\u001b[39;49m\u001b[43m,\u001b[49m\u001b[43m \u001b[49m\u001b[38;5;28;43;01mFalse\u001b[39;49;00m\u001b[43m)\u001b[49m\u001b[43m,\u001b[49m\n\u001b[32m   1711\u001b[39m \u001b[43m    \u001b[49m\u001b[43mis_text\u001b[49m\u001b[43m=\u001b[49m\u001b[43mis_text\u001b[49m\u001b[43m,\u001b[49m\n\u001b[32m   1712\u001b[39m \u001b[43m    \u001b[49m\u001b[43merrors\u001b[49m\u001b[43m=\u001b[49m\u001b[38;5;28;43mself\u001b[39;49m\u001b[43m.\u001b[49m\u001b[43moptions\u001b[49m\u001b[43m.\u001b[49m\u001b[43mget\u001b[49m\u001b[43m(\u001b[49m\u001b[33;43m\"\u001b[39;49m\u001b[33;43mencoding_errors\u001b[39;49m\u001b[33;43m\"\u001b[39;49m\u001b[43m,\u001b[49m\u001b[43m \u001b[49m\u001b[33;43m\"\u001b[39;49m\u001b[33;43mstrict\u001b[39;49m\u001b[33;43m\"\u001b[39;49m\u001b[43m)\u001b[49m\u001b[43m,\u001b[49m\n\u001b[32m   1713\u001b[39m \u001b[43m    \u001b[49m\u001b[43mstorage_options\u001b[49m\u001b[43m=\u001b[49m\u001b[38;5;28;43mself\u001b[39;49m\u001b[43m.\u001b[49m\u001b[43moptions\u001b[49m\u001b[43m.\u001b[49m\u001b[43mget\u001b[49m\u001b[43m(\u001b[49m\u001b[33;43m\"\u001b[39;49m\u001b[33;43mstorage_options\u001b[39;49m\u001b[33;43m\"\u001b[39;49m\u001b[43m,\u001b[49m\u001b[43m \u001b[49m\u001b[38;5;28;43;01mNone\u001b[39;49;00m\u001b[43m)\u001b[49m\u001b[43m,\u001b[49m\n\u001b[32m   1714\u001b[39m \u001b[43m\u001b[49m\u001b[43m)\u001b[49m\n\u001b[32m   1715\u001b[39m \u001b[38;5;28;01massert\u001b[39;00m \u001b[38;5;28mself\u001b[39m.handles \u001b[38;5;129;01mis\u001b[39;00m \u001b[38;5;129;01mnot\u001b[39;00m \u001b[38;5;28;01mNone\u001b[39;00m\n\u001b[32m   1716\u001b[39m f = \u001b[38;5;28mself\u001b[39m.handles.handle\n",
            "\u001b[36mFile \u001b[39m\u001b[32mc:\\DA Dev\\Team_2_Healthcare_Insurance_Project\\.venv\\Lib\\site-packages\\pandas\\io\\common.py:863\u001b[39m, in \u001b[36mget_handle\u001b[39m\u001b[34m(path_or_buf, mode, encoding, compression, memory_map, is_text, errors, storage_options)\u001b[39m\n\u001b[32m    858\u001b[39m \u001b[38;5;28;01melif\u001b[39;00m \u001b[38;5;28misinstance\u001b[39m(handle, \u001b[38;5;28mstr\u001b[39m):\n\u001b[32m    859\u001b[39m     \u001b[38;5;66;03m# Check whether the filename is to be opened in binary mode.\u001b[39;00m\n\u001b[32m    860\u001b[39m     \u001b[38;5;66;03m# Binary mode does not support 'encoding' and 'newline'.\u001b[39;00m\n\u001b[32m    861\u001b[39m     \u001b[38;5;28;01mif\u001b[39;00m ioargs.encoding \u001b[38;5;129;01mand\u001b[39;00m \u001b[33m\"\u001b[39m\u001b[33mb\u001b[39m\u001b[33m\"\u001b[39m \u001b[38;5;129;01mnot\u001b[39;00m \u001b[38;5;129;01min\u001b[39;00m ioargs.mode:\n\u001b[32m    862\u001b[39m         \u001b[38;5;66;03m# Encoding\u001b[39;00m\n\u001b[32m--> \u001b[39m\u001b[32m863\u001b[39m         handle = \u001b[38;5;28;43mopen\u001b[39;49m\u001b[43m(\u001b[49m\n\u001b[32m    864\u001b[39m \u001b[43m            \u001b[49m\u001b[43mhandle\u001b[49m\u001b[43m,\u001b[49m\n\u001b[32m    865\u001b[39m \u001b[43m            \u001b[49m\u001b[43mioargs\u001b[49m\u001b[43m.\u001b[49m\u001b[43mmode\u001b[49m\u001b[43m,\u001b[49m\n\u001b[32m    866\u001b[39m \u001b[43m            \u001b[49m\u001b[43mencoding\u001b[49m\u001b[43m=\u001b[49m\u001b[43mioargs\u001b[49m\u001b[43m.\u001b[49m\u001b[43mencoding\u001b[49m\u001b[43m,\u001b[49m\n\u001b[32m    867\u001b[39m \u001b[43m            \u001b[49m\u001b[43merrors\u001b[49m\u001b[43m=\u001b[49m\u001b[43merrors\u001b[49m\u001b[43m,\u001b[49m\n\u001b[32m    868\u001b[39m \u001b[43m            \u001b[49m\u001b[43mnewline\u001b[49m\u001b[43m=\u001b[49m\u001b[33;43m\"\u001b[39;49m\u001b[33;43m\"\u001b[39;49m\u001b[43m,\u001b[49m\n\u001b[32m    869\u001b[39m \u001b[43m        \u001b[49m\u001b[43m)\u001b[49m\n\u001b[32m    870\u001b[39m     \u001b[38;5;28;01melse\u001b[39;00m:\n\u001b[32m    871\u001b[39m         \u001b[38;5;66;03m# Binary mode\u001b[39;00m\n\u001b[32m    872\u001b[39m         handle = \u001b[38;5;28mopen\u001b[39m(handle, ioargs.mode)\n",
            "\u001b[31mFileNotFoundError\u001b[39m: [Errno 2] No such file or directory: 'data/raw/insurance.csv'"
          ]
        }
      ],
      "source": [
        "from pathlib import Path # load the pathlib library\n",
        "\n",
        "import pandas as pd # load the pandas library\n",
        "df = pd.read_csv('data/raw/insurance.csv') # read the csv file into a dataframe\n",
        "df.head() # displays the first first few rows of dataframe\n",
        "print(df.shape)  # look at shape of dataframe\n"
      ]
    },
    {
      "cell_type": "markdown",
      "metadata": {
        "id": "-mavJ8DibrcQ"
      },
      "source": [
        "# Section 1"
      ]
    },
    {
      "cell_type": "markdown",
      "metadata": {},
      "source": [
        "Section 1 content"
      ]
    },
    {
      "cell_type": "markdown",
      "metadata": {},
      "source": [
        "Import Libraries"
      ]
    },
    {
      "cell_type": "code",
      "execution_count": null,
      "metadata": {},
      "outputs": [],
      "source": [
        "import numpy as np # load the numpy library\n",
        "df.dtypes # check the data types of each column"
      ]
    },
    {
      "cell_type": "markdown",
      "metadata": {
        "id": "ZY3l0-AxO93d"
      },
      "source": [
        "---"
      ]
    },
    {
      "cell_type": "markdown",
      "metadata": {},
      "source": [
        "Listing all the variable "
      ]
    },
    {
      "cell_type": "code",
      "execution_count": null,
      "metadata": {},
      "outputs": [],
      "source": [
        "df.describe(include='all') # get summary statistics of dataframe"
      ]
    },
    {
      "cell_type": "markdown",
      "metadata": {},
      "source": [
        "Check for missing values"
      ]
    },
    {
      "cell_type": "code",
      "execution_count": null,
      "metadata": {},
      "outputs": [],
      "source": [
        "#check for missing values\n",
        "df.isnull().sum()\n"
      ]
    },
    {
      "cell_type": "markdown",
      "metadata": {},
      "source": [
        "check for duplicates"
      ]
    },
    {
      "cell_type": "code",
      "execution_count": null,
      "metadata": {},
      "outputs": [],
      "source": [
        "#check for duplicates\n",
        "duplicate = df.duplicated().sum()\n",
        "duplicate"
      ]
    },
    {
      "cell_type": "markdown",
      "metadata": {},
      "source": [
        "Remove Duplicates and checking"
      ]
    },
    {
      "cell_type": "code",
      "execution_count": null,
      "metadata": {},
      "outputs": [],
      "source": [
        "#remove duplicates\n",
        "df = df.drop_duplicates().reset_index(drop=True)\n",
        "\n",
        "duplicatech = df.duplicated().sum() #check that duplicates are gone\n",
        "duplicatech"
      ]
    },
    {
      "cell_type": "markdown",
      "metadata": {},
      "source": [
        "Check for NAN"
      ]
    },
    {
      "cell_type": "code",
      "execution_count": null,
      "metadata": {},
      "outputs": [],
      "source": [
        "#check for nans\n",
        "df.isna().sum() #\n",
        "\n"
      ]
    },
    {
      "cell_type": "markdown",
      "metadata": {},
      "source": [
        "There are no NANs in the data set"
      ]
    },
    {
      "cell_type": "markdown",
      "metadata": {},
      "source": [
        "Noramlise the data to make sure that all the categories will be consistent\n",
        "\n",
        "\n",
        "Expect that there are Male and female are recorded corectly for sex and the spellings and spaces are correct\n",
        "Expect that the regions are spelt consistently and spaces etc are consistent\n",
        "Expect that the smoking is Yes or no and the spelling are consistent\n"
      ]
    },
    {
      "cell_type": "code",
      "execution_count": null,
      "metadata": {},
      "outputs": [],
      "source": [
        "# check male and female is spelt correctly \n",
        "df[\"sex\"] = df[\"sex\"].str.strip().str.lower()\n",
        "\n",
        "\n",
        "# check region is spelt correctly \n",
        "df[\"region\"] = df[\"region\"].str.strip().str.lower() #  can also do this  print(df['region'].unique()) and id all unique don't need to strip\n",
        "\n",
        "\n",
        "# check smoking is set to yes or no\n",
        "df[\"smoker\"] = df[\"smoker\"].str.strip().str.lower()\n",
        "\n",
        "\n",
        "\n",
        "\n"
      ]
    },
    {
      "cell_type": "markdown",
      "metadata": {},
      "source": [
        "# Values count"
      ]
    },
    {
      "cell_type": "code",
      "execution_count": null,
      "metadata": {},
      "outputs": [],
      "source": [
        "# value counts\n",
        "df[\"sex\"].value_counts()\n",
        "\n",
        "\n"
      ]
    },
    {
      "cell_type": "code",
      "execution_count": null,
      "metadata": {},
      "outputs": [],
      "source": [
        "df[\"region\"].value_counts()\n"
      ]
    },
    {
      "cell_type": "code",
      "execution_count": null,
      "metadata": {},
      "outputs": [],
      "source": [
        "df[\"smoker\"].value_counts()\n"
      ]
    },
    {
      "cell_type": "code",
      "execution_count": null,
      "metadata": {},
      "outputs": [],
      "source": [
        "df[\"children\"].value_counts()\n"
      ]
    },
    {
      "cell_type": "code",
      "execution_count": null,
      "metadata": {},
      "outputs": [],
      "source": [
        "df[\"age\"].value_counts()\n"
      ]
    },
    {
      "cell_type": "code",
      "execution_count": null,
      "metadata": {},
      "outputs": [],
      "source": [
        "df[\"bmi\"].value_counts()\n"
      ]
    },
    {
      "cell_type": "code",
      "execution_count": null,
      "metadata": {},
      "outputs": [],
      "source": [
        "df[\"charges\"].value_counts()"
      ]
    },
    {
      "cell_type": "markdown",
      "metadata": {},
      "source": [
        "Histrogram of all variables to show shapes"
      ]
    },
    {
      "cell_type": "code",
      "execution_count": null,
      "metadata": {},
      "outputs": [],
      "source": [
        "df.hist()"
      ]
    },
    {
      "cell_type": "markdown",
      "metadata": {},
      "source": [
        "#Summary \n",
        "\n",
        "Age is an uniform distribution there is a single peak to the left\n",
        "\n",
        "BMI has a normal distribution according with some high values greater than 45.\n",
        "\n",
        "Charges are strongly skewed to the right - most charges appear to be under 15K according to the histrogram\n",
        "\n",
        "For childrem most people have three or under"
      ]
    },
    {
      "cell_type": "code",
      "execution_count": null,
      "metadata": {},
      "outputs": [],
      "source": [
        "## Since 'bmi' is a continuous variable, we can categorize it into groups for better analysis.\n",
        "\n",
        "bmi_bins = [0, 18.5, 24.9, 29.9, 34.9, 39.9, 100]\n",
        "bmi_labels = ['Underweight', 'Normal weight', 'Overweight', 'Obesity I', 'Obesity II', 'Obesity III']\n",
        "df['bmi_category'] = pd.cut(df['bmi'], bins=bmi_bins, labels=bmi_labels)\n",
        "df['bmi_category'].value_counts()\n"
      ]
    },
    {
      "cell_type": "code",
      "execution_count": null,
      "metadata": {},
      "outputs": [],
      "source": [
        "df['bmi_category'].value_counts().sort_index()"
      ]
    },
    {
      "cell_type": "code",
      "execution_count": null,
      "metadata": {},
      "outputs": [],
      "source": [
        "grouped = df.groupby(['bmi_category', 'smoker'], observed=True)['charges'].mean()\n",
        "print(grouped)"
      ]
    },
    {
      "cell_type": "code",
      "execution_count": null,
      "metadata": {},
      "outputs": [],
      "source": [
        "# Group and calculate mean charges by bmi_category and smoker\n",
        "pivot = df.groupby(['bmi_category', 'smoker'], observed=True)['charges'].mean().unstack()\n",
        "\t\n",
        "# 2. Calculate difference and percent difference (numeric)\n",
        "pivot['difference'] = pivot['yes'] - pivot['no']\n",
        "pivot['percent_diff'] = (pivot['difference'] / pivot['no']) * 100\n",
        "\t\n",
        "# 3. Format the currency columns\n",
        "pivot['no'] = pivot['no'].map(lambda x: f\"${x:,.0f}\")\n",
        "pivot['yes'] = pivot['yes'].map(lambda x: f\"${x:,.0f}\")\n",
        "pivot['difference'] = pivot['difference'].map(lambda x: f\"£{x:,.0f}\")\n",
        "\n",
        "# 4. Format the percent difference column\n",
        "pivot['percent_diff'] = pivot['percent_diff'].map(lambda x: f\"{x:.1f}%\")\n",
        "print(pivot)\n"
      ]
    },
    {
      "cell_type": "markdown",
      "metadata": {},
      "source": [
        "Focus on 'BMI' and 'Age' as a factor in Healthcare cost"
      ]
    },
    {
      "cell_type": "code",
      "execution_count": null,
      "metadata": {},
      "outputs": [],
      "source": [
        "grouped = df.groupby(['bmi_category', 'age'], observed=True)['charges'].mean().reset_index()\n",
        "\n",
        "grouped['charges'] = grouped['charges'].map(lambda x: f\"£{x:,.0f}\")\n",
        "\n",
        "print(grouped)\n"
      ]
    },
    {
      "cell_type": "markdown",
      "metadata": {},
      "source": [
        "Convert from Long to Wide format for better reading and understanding of Dataset"
      ]
    },
    {
      "cell_type": "code",
      "execution_count": null,
      "metadata": {},
      "outputs": [],
      "source": [
        "pivot_table = pd.pivot_table(\n",
        "\t    df,\n",
        "\t    values='charges',               # Column to aggregate\n",
        "\t    index='bmi_category',          # Rows\n",
        "\t    columns='age',                 # Columns\n",
        "\t    aggfunc='mean',                # Aggregation function\n",
        "\t    fill_value=0                   # Replace missing values with 0\n",
        ").reset_index().rename_axis(mapper=None, axis=1)\n",
        "age_cols = pivot_table.columns.drop('bmi_category')\n",
        "\n",
        "pivot_table[age_cols] = pivot_table[age_cols].map(lambda x: f\"£{x:,.0f}\")\n",
        "print(pivot_table)"
      ]
    },
    {
      "cell_type": "code",
      "execution_count": null,
      "metadata": {},
      "outputs": [],
      "source": [
        "# Create age bands\n",
        "def age_band(x):\n",
        "    if x < 18: return \"<18\"\n",
        "    elif x <= 25: return \"18-25\"\n",
        "    elif x <= 34: return \"26-34\"\n",
        "    elif x <= 49: return \"35-49\"\n",
        "    elif x <= 50: return \"50-69\"\n",
        "    elif x <= 70: return \"70-79\"\n",
        "    return \"80+\"\n",
        "df[\"age_band\"] = df[\"age\"].apply(age_band)\n",
        "df.head()"
      ]
    },
    {
      "cell_type": "markdown",
      "metadata": {},
      "source": [
        "# Statistical testing and creation of outlier group\n",
        "**ANOVA**\n",
        "Tests was run to see if there is a statistically signficant differrence in mean charges between at least one of the child counts. The result tells us there is a difference but not where. Within our dataset most people have 0, 1, or 2 children. Very few have 4-5 so small sample outliers in this group may be driving this. You can see there are only 25 people with 4 children or more. ANOVA indicates differences, but the largest effects are in very small groups (4–5 children). Small sample sizes may distort averages what if the people in this smaller group are mostly non smokers and/or are younger than the average? The ANOVA only checked: Do charges differ by number of children? It didn’t control for other factors like:\n",
        "\n",
        "Smoker status (huge driver of charges!)\n",
        "Age (older = higher charges)\n",
        "BMI\n",
        "So, if groups with 4–5 children just happen to have fewer smokers and younger people, their lower charges might have nothing to do with family size at all!\n",
        "\n",
        "To control this need to us multiple regression (preferred). Model charges as a function of children, smoker, age, BMI, region. The coefficients for children in this test now show the effect of family size after controlling for age, smoker, BMI, and region.\n",
        "\n",
        "In this regression shows: once you control for smoker and age, the effect of children is weak and inconsistent. Children coefficients (adjusted for age, smoker, region)\n",
        "\n",
        "These numbers show the extra cost compared to the reference group (0 children):\n",
        "\n",
        "1 child: +$387, not significant (p = 0.359)\n",
        "2 children: +$1633, significant (p < 0.001)\n",
        "3 children: +$961, not significant (p = 0.080, borderline)\n",
        "4 children: +$2936, significant (p = 0.018)\n",
        "5 children: +$1105, not significant (p = 0.448)\n",
        "\n",
        "So after adjusting for smoking, age, and region, most child groups are not consistently different. Only 2 children and 4 children stand out as significantly higher charges. No children is not clearly more expensive the only clear differences are small bumps at 2 and 4 kids. The real heavy hitters are smoker status and age, not children.\n"
      ]
    },
    {
      "cell_type": "code",
      "execution_count": null,
      "metadata": {},
      "outputs": [],
      "source": [
        "# ANOVA test to see if there are significant differences in charges based on number of children\n",
        "import scipy.stats as stats\n",
        "\n",
        "# Run ANOVA\n",
        "groups = [df.loc[df[\"children\"]==n, \"charges\"] for n in sorted(df[\"children\"].unique())]\n",
        "f_stat, p_val = stats.f_oneway(*groups)\n",
        "\n",
        "print(\"F-statistic:\", f_stat)\n",
        "print(\"p-value:\", p_val)\n"
      ]
    },
    {
      "cell_type": "code",
      "execution_count": null,
      "metadata": {},
      "outputs": [],
      "source": [
        "import statsmodels.formula.api as smf\n",
        "model = smf.ols('charges ~ C(children) + C(smoker) + age + bmi + C(region)', data=df).fit() # multiple regression model\n",
        "model.summary() # display the summary statistics of the regression model\n"
      ]
    },
    {
      "cell_type": "code",
      "execution_count": null,
      "metadata": {},
      "outputs": [],
      "source": [
        "import statsmodels.formula.api as smf\n",
        "\n",
        "# Model 1: Smoking + Age\n",
        "model1 = smf.ols(\"charges ~ C(smoker) + age\", data=df).fit()\n",
        "\n",
        "# Model 2: Smoking + BMI\n",
        "model2 = smf.ols(\"charges ~ C(smoker) + bmi\", data=df).fit()\n",
        "\n",
        "print(\"Smoking + Age R²:\", model1.rsquared)\n",
        "print(\"Smoking + BMI R²:\", model2.rsquared)"
      ]
    },
    {
      "cell_type": "markdown",
      "metadata": {},
      "source": [
        "Section 2 content"
      ]
    },
    {
      "cell_type": "markdown",
      "metadata": {},
      "source": [
        "BMI and smoking compared to Age and smoking are what I look at below; Both models are strong, but age adds more predictive power than BMI when combined with smoking. In practical terms: Being older consistently increases charges. BMI matters, but its effect is weaker and less consistent across the dataset compared to age. However in the below raw BMI assumes the effect of BMI is linear (i.e.) each unit increase adds the same change in charges. In reality, insurance risk often jumps when you cross thresholds (25, 30, 35…). Bands let you capture those non-linear effects:\n",
        "\n",
        "Underweight\n",
        "Healthy\n",
        "Overweight\n",
        "Obese Class 1\n",
        "Obese Class 2\n",
        "Obese Class 3"
      ]
    },
    {
      "cell_type": "code",
      "execution_count": null,
      "metadata": {},
      "outputs": [],
      "source": [
        "import statsmodels.formula.api as smf\n",
        "\n",
        "# Model 1: Smoking + Age\n",
        "model1 = smf.ols(\"charges ~ C(smoker) + age\", data=df).fit()\n",
        "\n",
        "# Model 2: Smoking + BMI\n",
        "model2 = smf.ols(\"charges ~ C(smoker) + bmi\", data=df).fit()\n",
        "\n",
        "print(\"Smoking + Age R²:\", model1.rsquared)\n",
        "print(\"Smoking + BMI R²:\", model2.rsquared)"
      ]
    },
    {
      "cell_type": "markdown",
      "metadata": {},
      "source": [
        "# Results of the statistical tests conducted below show:\n",
        "\n",
        "**smoking:**\n",
        "\n",
        "- Coefficient ~ +$23,900\n",
        "- p < 0.001 Smoking is the single largest driver of charges.\n",
        "\n",
        "**Age bands (baseline = 18–25):**\n",
        "\n",
        "- 26–34: +$1,415 (significant)\n",
        "- 35–49: +$4,314 (significant)\n",
        "- 50–69: +$8,143 (significant)\n",
        "- 70–79: +$9,184 (significant) Clear stepwise increase across age bands.\n",
        "\n",
        "**BMI categories (baseline = Class 1 Obesity):**\n",
        "\n",
        "- Class 2 Obesity: +$1,291 (significant)\n",
        "- Class 3 Obesity: +$1,095 (not significant)\n",
        "- Healthy Weight: –$4,085 (significant)\n",
        "\n",
        "**Overweight: –$3,256 (significant)**\n",
        "\n",
        "- Underweight: –$5,796 (significant) Healthy/Overweight/Underweight all cost less than obese.\n",
        "\n",
        "**Conclusion**\n",
        "\n",
        "- Smoking dominates (adds ~$24k regardless of age or BMI).\n",
        "- Age adds a strong, stepwise effect (costs climb steadily after 35).\n",
        "- BMI bands show clear differences: being obese adds thousands compared to healthy/overweight.\n",
        "\n",
        "Note: Using bands makes the effects easier to present:\n",
        "- Non-smokers in their 20s with healthy BMI average ~$5–6k.\n",
        "- Smokers in their 50s with obesity average ~$30k+."
      ]
    },
    {
      "cell_type": "code",
      "execution_count": null,
      "metadata": {},
      "outputs": [],
      "source": [
        "# Age Band smoking & BMI Test\n",
        "# I have already created 'age_band' and 'bmi_category' columns\n",
        "model_bands = smf.ols(\"charges ~ C(smoker) + C(age_band) + C(bmi_category)\", data=df).fit()\n",
        "\n",
        "print(model_bands.summary())\n",
        "print(\"R² with Smoking + Age bands + BMI bands:\", model_bands.rsquared)"
      ]
    },
    {
      "cell_type": "markdown",
      "metadata": {},
      "source": [
        "# Smoking differences between regions do we have a region with more smokers?\n",
        "\n",
        "I look at that below and found there isn’t strong statistical evidence that some regions “have more smokers.” Which means regional charge differences are unlikely to be explained by smoking distribution alone."
      ]
    },
    {
      "cell_type": "code",
      "execution_count": null,
      "metadata": {},
      "outputs": [],
      "source": [
        "from scipy.stats import chi2_contingency\n",
        "\n",
        "# Contingency table\n",
        "table = pd.crosstab(df['region'], df['smoker'])\n",
        "chi2, p, dof, expected = chi2_contingency(table)\n",
        "\n",
        "print(table)\n",
        "print(\"Chi-square:\", chi2, \"p-value:\", p)"
      ]
    },
    {
      "cell_type": "markdown",
      "metadata": {},
      "source": [
        "In the below we identify outlier (highest charge cases) in top Q1 quantile and create a tag so they can be filtered in Power BI."
      ]
    },
    {
      "cell_type": "code",
      "execution_count": null,
      "metadata": {},
      "outputs": [],
      "source": [
        "# Example: charges column in insurance dataset\n",
        "Q1 = df['charges'].quantile(0.25)\n",
        "Q3 = df['charges'].quantile(0.75)\n",
        "IQR = Q3 - Q1\n",
        "\n",
        "lower_bound = Q1 - 1.5 * IQR\n",
        "upper_bound = Q3 + 1.5 * IQR\n",
        "\n",
        "# filter outliers (High charges only)\n",
        "outliers = df[(df['charges'] > upper_bound)]\n",
        "\n",
        "# I then created a new column to tag the records so they can be filtered out in Power BI a g later\n",
        "\n",
        "def high_cost_case(x):\n",
        "    if x >= 40000:   # threshold you chose\n",
        "        return \"High Cost\"\n",
        "    else:\n",
        "        return \"Normal\"\n",
        "\n",
        "df['cost_group'] = df['charges'].apply(high_cost_case)"
      ]
    },
    {
      "cell_type": "markdown",
      "metadata": {},
      "source": [
        "We look at BMI and region below to see if there are any regional differences that are significant. Our hypotheses was that therew woule be no regional differences."
      ]
    },
    {
      "cell_type": "code",
      "execution_count": null,
      "metadata": {},
      "outputs": [],
      "source": [
        "pd.crosstab(df['region'], df['bmi_category']) # check distribution of bmi categories across regions"
      ]
    },
    {
      "cell_type": "markdown",
      "metadata": {},
      "source": [
        "In the above we could see there was a regional difference in the Southeast in category Obesity III. We did further tests to see if this was a significant difference below. The results below show a tthe difference is significant. Results came back significant. as the the distribution of BMI categories differs significantly across regions. Some regions  do have a different BMI risk mix. Looking at our crosstab, the Southeast had a much higher Class 3 Obesity count (55 people vs 8–15 elsewhere). That is probably what drove this big Chi-square."
      ]
    },
    {
      "cell_type": "code",
      "execution_count": null,
      "metadata": {},
      "outputs": [],
      "source": [
        "chi2, p, dof, expected = chi2_contingency(pd.crosstab(df['region'], df['bmi_category'])) # Chi-square test for BMI category across regions\n",
        "print(\"Chi-square:\", chi2, \"p-value:\", p) # check p-value"
      ]
    },
    {
      "cell_type": "code",
      "execution_count": null,
      "metadata": {},
      "outputs": [],
      "source": [
        "df.to_csv('data\\processed\\insurance_cleaned.csv', index=False) # export cleaned dataframe to csv"
      ]
    },
    {
      "cell_type": "markdown",
      "metadata": {},
      "source": [
        "---"
      ]
    },
    {
      "cell_type": "markdown",
      "metadata": {},
      "source": [
        "NOTE"
      ]
    },
    {
      "cell_type": "markdown",
      "metadata": {},
      "source": [
        "* You may add as many sections as you want, as long as it supports your project workflow.\n",
        "* All notebook's cells should be run top-down (you can't create a dynamic wherein a given point you need to go back to a previous cell to execute some task, like go back to a previous cell and refresh a variable content)"
      ]
    },
    {
      "cell_type": "markdown",
      "metadata": {
        "id": "ltNetd085qHf"
      },
      "source": [
        "# Push files to Repo"
      ]
    },
    {
      "cell_type": "markdown",
      "metadata": {},
      "source": [
        "---"
      ]
    }
  ],
  "metadata": {
    "accelerator": "GPU",
    "colab": {
      "name": "Data Practitioner Jupyter Notebook.ipynb",
      "provenance": [],
      "toc_visible": true
    },
    "kernelspec": {
      "display_name": ".venv (3.12.8)",
      "language": "python",
      "name": "python3"
    },
    "language_info": {
      "codemirror_mode": {
        "name": "ipython",
        "version": 3
      },
      "file_extension": ".py",
      "mimetype": "text/x-python",
      "name": "python",
      "nbconvert_exporter": "python",
      "pygments_lexer": "ipython3",
      "version": "3.12.8"
    },
    "orig_nbformat": 2
  },
  "nbformat": 4,
  "nbformat_minor": 2
}
